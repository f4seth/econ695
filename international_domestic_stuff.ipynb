{
 "cells": [
  {
   "cell_type": "code",
   "execution_count": null,
   "metadata": {},
   "outputs": [],
   "source": [
    "import pandas as pd\n",
    "import csv\n",
    "import os\n",
    "import datetime\n",
    "import pandas as pd\n",
    "import statsmodels.api as sm\n",
    "import matplotlib.pyplot as plt\n",
    "import numpy as np\n",
    "import time\n",
    "import pycountry\n",
    "import geopandas as gpd\n",
    "import shapely.wkt\n",
    "import seaborn as sns\n",
    "from shapely.geometry import Point\n",
    "import requests\n",
    "from bs4 import BeautifulSoup  "
   ]
  },
  {
   "cell_type": "code",
   "execution_count": null,
   "metadata": {},
   "outputs": [],
   "source": [
    "#confirm the relative file path\n",
    "import os\n",
    "cwd = os.getcwd()\n",
    "print(cwd)"
   ]
  },
  {
   "cell_type": "code",
   "execution_count": null,
   "metadata": {},
   "outputs": [],
   "source": [
    "#Total Number Of Passenger Data\n",
    "\n",
    "alaska_air = pd.read_csv(\"Passenger Data/alaska_air.csv\")\n",
    "alaska_air = alaska_air.rename(columns=alaska_air.iloc[0])\n",
    "alaska_air = alaska_air.drop(0)\n",
    "alaska_air = alaska_air.drop([267,268,269,270])\n",
    "alaska_air = alaska_air[alaska_air[\"Month\"] != 'TOTAL']\n",
    "alaska_air['Airline'] = 'alaska air'\n"
   ]
  },
  {
   "cell_type": "code",
   "execution_count": null,
   "metadata": {},
   "outputs": [],
   "source": [
    "#air wisconsin \n",
    "air_wisconsin = pd.read_csv(\"Passenger Data/air_wisconsin.csv\")\n",
    "air_wisconsin = air_wisconsin.rename(columns=air_wisconsin.iloc[0])\n",
    "air_wisconsin = air_wisconsin.drop(0)\n",
    "air_wisconsin = air_wisconsin.drop([267,268,269,270])\n",
    "air_wisconsin = air_wisconsin[air_wisconsin[\"Month\"] != 'TOTAL']\n",
    "air_wisconsin['Airline'] = 'air_wisconsin'"
   ]
  },
  {
   "cell_type": "code",
   "execution_count": null,
   "metadata": {},
   "outputs": [],
   "source": [
    "allegient_airways = pd.read_csv(\"Passenger Data/allegient_airways_passenger_data.csv\")\n",
    "allegient_airways = allegient_airways.rename(columns=allegient_airways.iloc[0])\n",
    "allegient_airways = allegient_airways.drop(0)\n",
    "allegient_airways = allegient_airways.drop([267,268,269,270])\n",
    "allegient_airways = allegient_airways[allegient_airways[\"Month\"] != 'TOTAL']\n",
    "allegient_airways['Airline'] = 'allegient_airways'"
   ]
  },
  {
   "cell_type": "code",
   "execution_count": null,
   "metadata": {},
   "outputs": [],
   "source": [
    "american_airways = pd.read_csv(\"Passenger Data/american_airways.csv\")\n",
    "american_airways = american_airways.rename(columns=american_airways.iloc[0])\n",
    "american_airways = american_airways.drop(0)\n",
    "american_airways = american_airways.drop([267,268,269,270])\n",
    "american_airways = american_airways[american_airways[\"Month\"] != 'TOTAL']\n",
    "american_airways['Airline'] = 'american_airways'"
   ]
  },
  {
   "cell_type": "code",
   "execution_count": null,
   "metadata": {},
   "outputs": [],
   "source": [
    "commutair_passenger = pd.read_csv(\"Passenger Data/commutair_passenger_data.csv\")\n",
    "commutair_passenger = commutair_passenger.rename(columns=commutair_passenger.iloc[0])\n",
    "commutair_passenger = commutair_passenger.drop(0)\n",
    "commutair_passenger = commutair_passenger.drop([267,268,269,270])\n",
    "commutair_passenger = commutair_passenger[commutair_passenger[\"Month\"] != 'TOTAL']\n",
    "commutair_passenger['Airline'] = 'commutair_passenger'"
   ]
  },
  {
   "cell_type": "code",
   "execution_count": null,
   "metadata": {},
   "outputs": [],
   "source": [
    "delta = pd.read_csv(\"Passenger Data/delta_passengers_data.csv\")\n",
    "delta = delta.rename(columns=delta.iloc[0])\n",
    "delta = delta.drop(0)\n",
    "delta = delta.drop([267,268,269,270])\n",
    "delta = delta[delta[\"Month\"] != 'TOTAL']\n",
    "delta['Airline'] = 'delta'"
   ]
  },
  {
   "cell_type": "code",
   "execution_count": null,
   "metadata": {},
   "outputs": [],
   "source": [
    "eastern = pd.read_csv(\"Passenger Data/eastern_passengers_data.csv\")\n",
    "eastern = eastern.rename(columns=eastern.iloc[0])\n",
    "eastern = eastern.drop(0)\n",
    "eastern = eastern.drop([38,39,40])\n",
    "eastern = eastern[eastern[\"Month\"] != 'TOTAL']\n",
    "eastern['Airline'] = 'eastern'\n",
    "#eastern"
   ]
  },
  {
   "cell_type": "code",
   "execution_count": null,
   "metadata": {},
   "outputs": [],
   "source": [
    "envoy = pd.read_csv(\"Passenger Data/envoy_air.csv\")\n",
    "envoy = envoy.rename(columns=envoy.iloc[0])\n",
    "envoy = envoy.drop(0)\n",
    "envoy = envoy.drop([267,268,269,270])\n",
    "envoy = envoy[envoy[\"Month\"] != 'TOTAL']\n",
    "envoy['Airline'] = 'envoy'"
   ]
  },
  {
   "cell_type": "code",
   "execution_count": null,
   "metadata": {},
   "outputs": [],
   "source": [
    "frontier = pd.read_csv(\"Passenger Data/frontier_passenger_data.csv\")\n",
    "frontier = frontier.rename(columns=frontier.iloc[0])\n",
    "frontier = frontier.drop(0)\n",
    "frontier = frontier.drop([267,268,269,270])\n",
    "frontier = frontier[frontier[\"Month\"] != 'TOTAL']\n",
    "frontier['Airline'] = 'frontier'"
   ]
  },
  {
   "cell_type": "code",
   "execution_count": null,
   "metadata": {},
   "outputs": [],
   "source": [
    "gojet = pd.read_csv(\"Passenger Data/gojet_air_passenger_data.csv\")\n",
    "gojet = gojet.rename(columns=gojet.iloc[0])\n",
    "gojet = gojet.drop(0)\n",
    "gojet = gojet.drop([229, 230,231,232 ])\n",
    "gojet = gojet[gojet[\"Month\"] != 'TOTAL']\n",
    "gojet['Airline'] = 'gojet'"
   ]
  },
  {
   "cell_type": "code",
   "execution_count": null,
   "metadata": {},
   "outputs": [],
   "source": [
    "hawaii = pd.read_csv(\"Passenger Data/hawaiin_airways_passenger_data.csv\")\n",
    "hawaii = hawaii.rename(columns=hawaii.iloc[0])\n",
    "hawaii = hawaii.drop(0)\n",
    "hawaii = hawaii.drop([267,268,269,270])\n",
    "hawaii = hawaii[hawaii[\"Month\"] != 'TOTAL']\n",
    "hawaii['Airline'] = 'hawaii'"
   ]
  },
  {
   "cell_type": "code",
   "execution_count": null,
   "metadata": {},
   "outputs": [],
   "source": []
  },
  {
   "cell_type": "code",
   "execution_count": null,
   "metadata": {},
   "outputs": [],
   "source": []
  },
  {
   "cell_type": "code",
   "execution_count": null,
   "metadata": {},
   "outputs": [],
   "source": [
    "horizon = pd.read_csv(\"Passenger Data/horizon_air.csv\")\n",
    "horizon = horizon.rename(columns=horizon.iloc[0])\n",
    "horizon = horizon.drop(0)\n",
    "horizon = horizon.drop([267,268, 269, 270])\n",
    "horizon = horizon[horizon[\"Month\"] != 'TOTAL']\n",
    "horizon['Airline'] = 'horizon'"
   ]
  },
  {
   "cell_type": "code",
   "execution_count": null,
   "metadata": {},
   "outputs": [],
   "source": []
  },
  {
   "cell_type": "code",
   "execution_count": null,
   "metadata": {},
   "outputs": [],
   "source": [
    "jetblue = pd.read_csv(\"Passenger Data/jb_passenger_data.csv\")\n",
    "jetblue = jetblue.rename(columns=jetblue.iloc[0])\n",
    "jetblue = jetblue.drop(0)\n",
    "jetblue = jetblue.drop([267,268,270])\n",
    "jetblue = jetblue[jetblue[\"Month\"] != 'TOTAL']\n",
    "jetblue['Airline'] = 'jetblue'"
   ]
  },
  {
   "cell_type": "code",
   "execution_count": null,
   "metadata": {},
   "outputs": [],
   "source": [
    "horizon = pd.read_csv(\"Passenger Data/horizon_air.csv\")\n",
    "horizon = horizon.rename(columns=horizon.iloc[0])\n",
    "horizon = horizon.drop(0)\n",
    "horizon = horizon.drop([267,268,269, 270])\n",
    "horizon = horizon[horizon[\"Month\"] != 'TOTAL']\n",
    "horizon['Airline'] = 'horizon'"
   ]
  },
  {
   "cell_type": "code",
   "execution_count": null,
   "metadata": {},
   "outputs": [],
   "source": [
    "mesa = pd.read_csv(\"Passenger Data/mesa_airlines.csv\")\n",
    "mesa = mesa.rename(columns=mesa.iloc[0])\n",
    "mesa = mesa.drop(0)\n",
    "mesa = mesa.drop([267,268,269, 270])\n",
    "mesa = mesa[mesa[\"Month\"] != 'TOTAL']\n",
    "mesa['Airline'] = 'mesa'"
   ]
  },
  {
   "cell_type": "code",
   "execution_count": null,
   "metadata": {},
   "outputs": [],
   "source": [
    "psa = pd.read_csv(\"Passenger Data/psa_airlines.csv\")\n",
    "psa = psa.rename(columns=psa.iloc[0])\n",
    "psa = psa.drop(0)\n",
    "psa = psa.drop([267,268,269,270])\n",
    "psa = psa[psa[\"Month\"] != 'TOTAL']\n",
    "psa['Airline'] = 'psa'"
   ]
  },
  {
   "cell_type": "code",
   "execution_count": null,
   "metadata": {},
   "outputs": [],
   "source": [
    "republic = pd.read_csv(\"Passenger Data/republic_airlines.csv\")\n",
    "republic = republic.rename(columns=republic.iloc[0])\n",
    "republic = republic.drop(0)\n",
    "republic = republic.drop([230,231,232])\n",
    "republic = republic[republic[\"Month\"] != 'TOTAL']\n",
    "republic['Airline'] = 'republic'"
   ]
  },
  {
   "cell_type": "code",
   "execution_count": null,
   "metadata": {},
   "outputs": [],
   "source": [
    "silver = pd.read_csv(\"Passenger Data/silver_passenger_data.csv\")\n",
    "silver = silver.rename(columns=silver.iloc[0])\n",
    "silver = silver.drop(0)\n",
    "silver = silver.drop([267,268,269,270])\n",
    "silver = silver[silver[\"Month\"] != 'TOTAL']\n",
    "silver['Airline'] = 'silver'\n",
    "silver"
   ]
  },
  {
   "cell_type": "code",
   "execution_count": null,
   "metadata": {},
   "outputs": [],
   "source": [
    "skywest_air = pd.read_csv(\"Passenger Data/skywest_air.csv\")\n",
    "skywest_air = skywest_air.rename(columns=skywest_air.iloc[0])\n",
    "skywest_air = skywest_air.drop(0)\n",
    "skywest_air = skywest_air.drop([267,268,269,270])\n",
    "skywest_air = skywest_air[skywest_air[\"Month\"] != 'TOTAL']\n",
    "skywest_air['Airline'] = 'skywest_air'"
   ]
  },
  {
   "cell_type": "code",
   "execution_count": null,
   "metadata": {},
   "outputs": [],
   "source": [
    "sw = pd.read_csv(\"Passenger Data/southwestairlines_passengers.csv\")\n",
    "sw = sw.rename(columns=sw.iloc[0])\n",
    "sw = sw.drop(0)\n",
    "sw = sw.drop([267, 268, 269, 270])\n",
    "sw = sw[sw[\"Month\"] != 'TOTAL']\n",
    "sw['Airline'] = 'sw'"
   ]
  },
  {
   "cell_type": "code",
   "execution_count": null,
   "metadata": {},
   "outputs": [],
   "source": [
    "spirit_air = pd.read_csv(\"Passenger Data/spirit_air.csv\")\n",
    "spirit_air = spirit_air.rename(columns=spirit_air.iloc[0])\n",
    "spirit_air = spirit_air.drop(0)\n",
    "spirit_air = spirit_air.drop([267, 268, 269, 270])\n",
    "spirit_air = spirit_air[spirit_air[\"Month\"] != 'TOTAL']\n",
    "spirit_air['Airline'] = 'spirt'"
   ]
  },
  {
   "cell_type": "code",
   "execution_count": null,
   "metadata": {},
   "outputs": [],
   "source": [
    "sum_cunt = pd.read_csv(\"Passenger Data/sun_country_air.csv\")\n",
    "sum_cunt = sum_cunt.rename(columns=sum_cunt.iloc[0])\n",
    "sum_cunt = sum_cunt.drop(0)\n",
    "sum_cunt = sum_cunt.drop([266, 267, 268, 269])\n",
    "sum_cunt = sum_cunt[sum_cunt[\"Month\"] != 'TOTAL']\n",
    "sum_cunt['Airline'] = 'sum_cunt'"
   ]
  },
  {
   "cell_type": "code",
   "execution_count": null,
   "metadata": {
    "scrolled": true
   },
   "outputs": [],
   "source": [
    "united_airlines = pd.read_csv(\"Passenger Data/united_airlines.csv\")\n",
    "united_airlines = united_airlines.rename(columns=united_airlines.iloc[0])\n",
    "united_airlines = united_airlines.drop(0)\n",
    "united_airlines = united_airlines.drop([267, 268, 269, 270])\n",
    "united_airlines = united_airlines[united_airlines[\"Month\"] != 'TOTAL']\n",
    "united_airlines['Airline'] = 'united_airlines'"
   ]
  },
  {
   "cell_type": "code",
   "execution_count": null,
   "metadata": {},
   "outputs": [],
   "source": [
    "uadom = united_airlines.loc[:, [\"Year\", \"DOMESTIC\", \"Airline\"]]"
   ]
  },
  {
   "cell_type": "code",
   "execution_count": null,
   "metadata": {
    "scrolled": true
   },
   "outputs": [],
   "source": [
    "#replace commas in Domestic, international, and Total string\n",
    "uadom['DOMESTIC']= uadom['DOMESTIC'].str.replace(',',\"\")\n"
   ]
  },
  {
   "cell_type": "code",
   "execution_count": null,
   "metadata": {},
   "outputs": [],
   "source": [
    "uadom[\"DOMESTIC\"] = uadom[\"DOMESTIC\"].astype(int)\n",
    "uadom[\"Year\"] = uadom[\"Year\"].astype(int)\n",
    "uadom2 = uadom.groupby('Year').sum()\n",
    "uadom2[\"airline\"] = \"United Airlines\"\n",
    "#uadom2"
   ]
  },
  {
   "cell_type": "code",
   "execution_count": null,
   "metadata": {},
   "outputs": [],
   "source": []
  },
  {
   "cell_type": "code",
   "execution_count": null,
   "metadata": {},
   "outputs": [],
   "source": [
    "#Put all the data frames in a dictionary: \n",
    "\n",
    "df_list = [alaska_air, air_wisconsin, allegient_airways, american_airways , commutair_passenger\n",
    ", delta, eastern, envoy,frontier , gojet ,hawaii, horizon, jetblue,horizon\n",
    ", mesa, psa, republic, silver, skywest_air, sw,sum_cunt ,united_airlines]"
   ]
  },
  {
   "cell_type": "code",
   "execution_count": null,
   "metadata": {},
   "outputs": [],
   "source": [
    "edited_dfs = []"
   ]
  },
  {
   "cell_type": "code",
   "execution_count": null,
   "metadata": {},
   "outputs": [],
   "source": [
    "#edited_dfs is a list of all of the domestic airlines  \n",
    "\n",
    "for i, df in enumerate(df_list):\n",
    "    uadom = df.loc[:, [\"Year\", \"DOMESTIC\", \"Airline\"]]\n",
    "    new_name = df_list[i] + \"_dom\"   # add \"_domestic\" to the original dataframe name\n",
    "    edited_dfs.append((new_name,uadom))"
   ]
  },
  {
   "cell_type": "code",
   "execution_count": null,
   "metadata": {},
   "outputs": [],
   "source": [
    "#Domestic_list of edited airlines \n",
    "dom_list = [tup[1] for tup in edited_dfs]\n"
   ]
  },
  {
   "cell_type": "code",
   "execution_count": null,
   "metadata": {},
   "outputs": [],
   "source": [
    "# Take out the comma in each domestic dataframe\n",
    "\n",
    "for i in dom_list:\n",
    "    i['DOMESTIC'] = i['DOMESTIC'].astype(str).str.replace(',',\"\")\n",
    "    i[\"DOMESTIC\"] = i[\"DOMESTIC\"].fillna('0')\n"
   ]
  },
  {
   "cell_type": "code",
   "execution_count": null,
   "metadata": {},
   "outputs": [],
   "source": []
  },
  {
   "cell_type": "code",
   "execution_count": null,
   "metadata": {},
   "outputs": [],
   "source": [
    "for i in dom_list:\n",
    "     i[\"Year\"] = i[\"Year\"].fillna(0).astype(int)"
   ]
  },
  {
   "cell_type": "code",
   "execution_count": null,
   "metadata": {},
   "outputs": [],
   "source": []
  },
  {
   "cell_type": "code",
   "execution_count": null,
   "metadata": {
    "scrolled": false
   },
   "outputs": [],
   "source": []
  },
  {
   "cell_type": "code",
   "execution_count": null,
   "metadata": {},
   "outputs": [],
   "source": []
  },
  {
   "cell_type": "code",
   "execution_count": null,
   "metadata": {},
   "outputs": [],
   "source": [
    "for i in dom_list:\n",
    "    print(i)\n"
   ]
  },
  {
   "cell_type": "code",
   "execution_count": null,
   "metadata": {},
   "outputs": [],
   "source": [
    "# Domestic Charts"
   ]
  },
  {
   "cell_type": "code",
   "execution_count": null,
   "metadata": {},
   "outputs": [],
   "source": [
    "alaskadom = dom_list[0]\n",
    "alaskadom[\"DOMESTIC\"] = alaskadom[\"DOMESTIC\"].astype(int)\n",
    "alaskadom[\"Year\"] = alaskadom[\"Year\"].astype(int)\n",
    "alaskadomfin = alaskadom.groupby(['Year', 'Airline']).sum().reset_index()\n",
    "alaskadomfin = alaskadomfin.loc[alaskadomfin[\"Year\"].isin([2019, 2020,2021,2022])]"
   ]
  },
  {
   "cell_type": "code",
   "execution_count": null,
   "metadata": {},
   "outputs": [],
   "source": [
    "# Wisconsin Air Domestic\n",
    "\n",
    "wisconsin_dom = dom_list[1]\n",
    "wisconsin_dom[\"DOMESTIC\"] = wisconsin_dom[\"DOMESTIC\"].astype(int)\n",
    "wisconsin_dom[\"Year\"] = wisconsin_dom[\"Year\"].astype(int)\n",
    "wisconsdom2 = wisconsin_dom.groupby(['Year', 'Airline']).sum().reset_index()\n",
    "wisconsdom2 = wisconsdom2.loc[wisconsdom2[\"Year\"].isin([2019, 2020,2021,2022])]\n",
    "\n"
   ]
  },
  {
   "cell_type": "code",
   "execution_count": null,
   "metadata": {},
   "outputs": [],
   "source": [
    "#df_list = [alaska_air, air_wisconsin, allegient_airways, american_airways , commutair_passenger\n",
    "#, delta, eastern, envoy,frontier , gojet ,hawaii, horizon, jetblue,horizon\n",
    "#, mesa, psa, republic, silver, skywest_air, sw,sum_cunt ,united_airlines]"
   ]
  },
  {
   "cell_type": "code",
   "execution_count": null,
   "metadata": {},
   "outputs": [],
   "source": [
    "allegient_dom = dom_list[2]\n",
    "allegient_dom[\"DOMESTIC\"] = allegient_dom[\"DOMESTIC\"].astype(int)\n",
    "allegient_dom[\"Year\"] = allegient_dom[\"Year\"].astype(int)\n",
    "allegient_dom2 = allegient_dom.groupby(['Year', 'Airline']).sum().reset_index()\n",
    "allegient_dom2 = allegient_dom2.loc[allegient_dom2[\"Year\"].isin([2019, 2020,2021,2022])]"
   ]
  },
  {
   "cell_type": "code",
   "execution_count": null,
   "metadata": {},
   "outputs": [],
   "source": [
    "american_dom = dom_list[3]\n",
    "american_dom[\"DOMESTIC\"] = american_dom[\"DOMESTIC\"].astype(int)\n",
    "american_dom[\"Year\"] = american_dom[\"Year\"].astype(int)\n",
    "american_dom2 = american_dom.groupby(['Year', 'Airline']).sum().reset_index()\n",
    "american_dom2 = allegient_dom2.loc[american_dom2[\"Year\"].isin([2019, 2020,2021,2022])]"
   ]
  },
  {
   "cell_type": "code",
   "execution_count": null,
   "metadata": {},
   "outputs": [],
   "source": []
  },
  {
   "cell_type": "code",
   "execution_count": null,
   "metadata": {},
   "outputs": [],
   "source": [
    "commut_dom = dom_list[4]\n",
    "commut_dom[\"DOMESTIC\"] = commut_dom[\"DOMESTIC\"].astype(int)\n",
    "commut_dom[\"Year\"] = commut_dom[\"Year\"].astype(int)\n",
    "commut_dom2 = commut_dom.groupby(['Year', 'Airline']).sum().reset_index()\n",
    "commut_dom2 = commut_dom2.loc[commut_dom2[\"Year\"].isin([2019, 2020,2021,2022])]"
   ]
  },
  {
   "cell_type": "code",
   "execution_count": null,
   "metadata": {},
   "outputs": [],
   "source": [
    "delta_dom = dom_list[5]\n",
    "delta_dom[\"DOMESTIC\"] = delta_dom[\"DOMESTIC\"].astype(int)\n",
    "delta_dom[\"Year\"] = delta_dom[\"Year\"].astype(int)\n",
    "delta_dom2 = delta_dom.groupby(['Year', 'Airline']).sum().reset_index()\n",
    "delta_dom2 = delta_dom2.loc[delta_dom2[\"Year\"].isin([2019, 2020,2021,2022])]"
   ]
  },
  {
   "cell_type": "code",
   "execution_count": null,
   "metadata": {},
   "outputs": [],
   "source": []
  },
  {
   "cell_type": "code",
   "execution_count": null,
   "metadata": {},
   "outputs": [],
   "source": [
    "#eastern_dom = dom_list[6]\n",
    "#eastern_dom[\"DOMESTIC\"] = eastern_dom[\"DOMESTIC\"].astype(int)\n",
    "#eastern_dom[\"Year\"] = eastern_dom[\"Year\"].astype(int)\n",
    "#eastern_dom2 = eastern_dom.groupby(['Year', 'Airline']).sum().reset_index()\n",
    "#eastern_dom2 = eastern_dom2.loc[eastern_dom2[\"Year\"].isin([2019, 2020,2021,2022])]"
   ]
  },
  {
   "cell_type": "code",
   "execution_count": null,
   "metadata": {},
   "outputs": [],
   "source": [
    "envoy_dom = dom_list[7]\n",
    "envoy_dom[\"DOMESTIC\"] = envoy_dom[\"DOMESTIC\"].astype(int)\n",
    "envoy_dom[\"Year\"] = envoy_dom[\"Year\"].astype(int)\n",
    "envoy_dom2 = envoy_dom.groupby(['Year', 'Airline']).sum().reset_index()\n",
    "envoy_dom2 = envoy_dom2.loc[envoy_dom2[\"Year\"].isin([2019, 2020,2021,2022])]"
   ]
  },
  {
   "cell_type": "code",
   "execution_count": null,
   "metadata": {},
   "outputs": [],
   "source": [
    "frontier_dom = dom_list[8]\n",
    "frontier_dom[\"DOMESTIC\"] = frontier_dom[\"DOMESTIC\"].astype(int)\n",
    "frontier_dom[\"Year\"] = frontier_dom[\"Year\"].astype(int)\n",
    "frontier_dom2 = frontier_dom.groupby(['Year', 'Airline']).sum().reset_index()\n",
    "frontier_dom2 = frontier_dom2.loc[frontier_dom2[\"Year\"].isin([2019, 2020,2021,2022])]"
   ]
  },
  {
   "cell_type": "code",
   "execution_count": null,
   "metadata": {},
   "outputs": [],
   "source": [
    "gojet_dom = dom_list[9]\n",
    "gojet_dom[\"DOMESTIC\"] = gojet_dom[\"DOMESTIC\"].astype(int)\n",
    "gojet_dom[\"Year\"] = gojet_dom[\"Year\"].astype(int)\n",
    "gojet_dom2 = gojet_dom.groupby(['Year', 'Airline']).sum().reset_index()\n",
    "gojet_dom2 = gojet_dom2.loc[gojet_dom2[\"Year\"].isin([2019, 2020,2021,2022])]"
   ]
  },
  {
   "cell_type": "code",
   "execution_count": null,
   "metadata": {},
   "outputs": [],
   "source": [
    "#df_list = [alaska_air, air_wisconsin, allegient_airways, american_airways , commutair_passenger\n",
    "#, delta, eastern, envoy,frontier , gojet ,hawaii, horizon, jetblue,horizon\n",
    "#, mesa, psa, republic, silver, skywest_air, sw,sum_cunt ,united_airlines]"
   ]
  },
  {
   "cell_type": "code",
   "execution_count": null,
   "metadata": {},
   "outputs": [],
   "source": [
    "hawaii_dom = dom_list[10]\n",
    "hawaii_dom[\"DOMESTIC\"] = hawaii_dom[\"DOMESTIC\"].astype(int)\n",
    "hawaii_dom[\"Year\"] = hawaii_dom[\"Year\"].astype(int)\n",
    "hawaii_dom2 = hawaii_dom.groupby(['Year', 'Airline']).sum().reset_index()\n",
    "hawaii_dom2 = hawaii_dom2.loc[hawaii_dom2[\"Year\"].isin([2019, 2020,2021,2022])]"
   ]
  },
  {
   "cell_type": "code",
   "execution_count": null,
   "metadata": {},
   "outputs": [],
   "source": []
  },
  {
   "cell_type": "code",
   "execution_count": null,
   "metadata": {},
   "outputs": [],
   "source": [
    "horizon_dom = dom_list[11]\n",
    "horizon_dom[\"DOMESTIC\"] = horizon_dom[\"DOMESTIC\"].astype(int)\n",
    "horizon_dom[\"Year\"] = horizon_dom[\"Year\"].astype(int)\n",
    "horizon_dom2 = horizon_dom.groupby(['Year', 'Airline']).sum().reset_index()\n",
    "horizon_dom2 = horizon_dom2.loc[horizon_dom2[\"Year\"].isin([2019, 2020,2021,2022])]"
   ]
  },
  {
   "cell_type": "code",
   "execution_count": null,
   "metadata": {},
   "outputs": [],
   "source": [
    "#df_list = [alaska_air, air_wisconsin, allegient_airways, american_airways , commutair_passenger\n",
    "#, delta, eastern, envoy,frontier , gojet ,hawaii, horizon, jetblue, horizon\n",
    "#, mesa, psa, republic, silver, skywest_air, sw,sum_cunt ,united_airlines]"
   ]
  },
  {
   "cell_type": "code",
   "execution_count": null,
   "metadata": {},
   "outputs": [],
   "source": [
    "mesa_dom = dom_list[13]\n",
    "mesa_dom[\"DOMESTIC\"] = mesa_dom[\"DOMESTIC\"].astype(int)\n",
    "mesa_dom[\"Year\"] = mesa_dom[\"Year\"].astype(int)\n",
    "mesa_dom2 = mesa_dom.groupby(['Year', 'Airline']).sum().reset_index()\n",
    "mesa_dom2 = mesa_dom2.loc[mesa_dom2[\"Year\"].isin([2019, 2020,2021,2022])]"
   ]
  },
  {
   "cell_type": "code",
   "execution_count": null,
   "metadata": {},
   "outputs": [],
   "source": [
    "dom_list[14]"
   ]
  },
  {
   "cell_type": "code",
   "execution_count": null,
   "metadata": {},
   "outputs": [],
   "source": [
    "psa = dom_list[14]\n",
    "psa[\"DOMESTIC\"] = psa[\"DOMESTIC\"].astype(int)\n",
    "psa[\"Year\"] = psa[\"Year\"].astype(int)\n",
    "psa2 = psa.groupby(['Year', 'Airline']).sum().reset_index()\n",
    "psa2 = psa2.loc[psa2[\"Year\"].isin([2019, 2020,2021,2022])]"
   ]
  },
  {
   "cell_type": "code",
   "execution_count": null,
   "metadata": {},
   "outputs": [],
   "source": [
    "republic_dom = dom_list[15]\n",
    "republic_dom[\"DOMESTIC\"] = republic_dom[\"DOMESTIC\"].astype(int)\n",
    "republic_dom[\"Year\"] = republic_dom[\"Year\"].astype(int)\n",
    "republic_dom2 = republic_dom.groupby(['Year', 'Airline']).sum().reset_index()\n",
    "republic_dom2 = republic_dom2.loc[republic_dom2[\"Year\"].isin([2019, 2020,2021,2022])]"
   ]
  },
  {
   "cell_type": "code",
   "execution_count": null,
   "metadata": {},
   "outputs": [],
   "source": [
    "silver_dom = dom_list[17]\n",
    "silver_dom[\"DOMESTIC\"] = silver_dom[\"DOMESTIC\"].astype(int)\n",
    "silver_dom[\"Year\"] = silver_dom[\"Year\"].astype(int)\n",
    "silver_dom2 = silver_dom.groupby(['Year', 'Airline']).sum().reset_index()\n",
    "silver_dom2 = silver_dom2.loc[silver_dom2[\"Year\"].isin([2019, 2020,2021,2022])]\n",
    "\n"
   ]
  },
  {
   "cell_type": "code",
   "execution_count": null,
   "metadata": {},
   "outputs": [],
   "source": [
    "#df_list = [alaska_air, air_wisconsin, allegient_airways, american_airways , commutair_passenger\n",
    "#, delta, eastern, envoy,frontier , gojet ,hawaii, horizon, jetblue, horizon\n",
    "#, mesa, psa, republic, silver, skywest_air, sw,sum_cunt ,united_airlines]\n",
    "\n",
    "\n",
    "dom_list[18]"
   ]
  },
  {
   "cell_type": "code",
   "execution_count": null,
   "metadata": {},
   "outputs": [],
   "source": [
    "skywest_dom = dom_list[18]\n",
    "skywest_dom = skywest_dom.dropna()\n",
    "skywest_dom[\"DOMESTIC\"] = skywest_dom[\"DOMESTIC\"].astype(int)\n",
    "skywest_dom[\"Year\"] = skywest_dom[\"Year\"].astype(int)\n",
    "skywest_dom2 = skywest_dom.groupby(['Year', 'Airline']).sum().reset_index()\n",
    "skywest_dom2 = skywest_dom2.loc[skywest_dom2[\"Year\"].isin([2019, 2020,2021,2022])]\n"
   ]
  },
  {
   "cell_type": "code",
   "execution_count": null,
   "metadata": {},
   "outputs": [],
   "source": [
    "dom_list[18][\"DOMESTIC\"].dropna()\n",
    "\n",
    "dom_list[18]"
   ]
  },
  {
   "cell_type": "code",
   "execution_count": null,
   "metadata": {},
   "outputs": [],
   "source": [
    "sw_dom = dom_list[18]\n",
    "sw_dom[\"DOMESTIC\"] = sw_dom[\"DOMESTIC\"].astype(int)\n",
    "sw_dom[\"Year\"] = sw_dom[\"Year\"].astype(int)\n",
    "sw_dom2 = sw_dom.groupby(['Year', 'Airline']).sum().reset_index()\n",
    "sw_dom2 = sw_dom2.loc[sw_dom2[\"Year\"].isin([2019, 2020,2021,2022])]"
   ]
  },
  {
   "cell_type": "code",
   "execution_count": null,
   "metadata": {},
   "outputs": [],
   "source": [
    "sw_dom = dom_list[19]\n",
    "sw_dom[\"DOMESTIC\"] = sw_dom[\"DOMESTIC\"].astype(int)\n",
    "sw_dom[\"Year\"] = sw_dom[\"Year\"].astype(int)\n",
    "sw_dom2 = sw_dom.groupby(['Year', 'Airline']).sum().reset_index()\n",
    "sw_dom2 = sw_dom2.loc[sw_dom2[\"Year\"].isin([2019, 2020,2021,2022])]"
   ]
  },
  {
   "cell_type": "code",
   "execution_count": null,
   "metadata": {},
   "outputs": [],
   "source": [
    "sum_cunt = dom_list[20]\n",
    "sum_cunt[\"DOMESTIC\"] = sum_cunt[\"DOMESTIC\"].astype(int)\n",
    "sum_cunt[\"Year\"] = sum_cunt[\"Year\"].astype(int)\n",
    "sum_cunt2 = sum_cunt.groupby(['Year', 'Airline']).sum().reset_index()\n",
    "sum_cunt2 = sum_cunt2.loc[sum_cunt2[\"Year\"].isin([2019, 2020,2021,2022])]"
   ]
  },
  {
   "cell_type": "code",
   "execution_count": null,
   "metadata": {},
   "outputs": [],
   "source": [
    "united_dom = dom_list[21]\n",
    "united_dom[\"DOMESTIC\"] = united_dom[\"DOMESTIC\"].astype(int)\n",
    "united_dom[\"Year\"] = united_dom[\"Year\"].astype(int)\n",
    "united_dom2 = united_dom.groupby(['Year', 'Airline']).sum().reset_index()\n",
    "united_dom2 = united_dom2.loc[united_dom2[\"Year\"].isin([2019, 2020,2021,2022])]"
   ]
  },
  {
   "cell_type": "code",
   "execution_count": null,
   "metadata": {},
   "outputs": [],
   "source": [
    "domestic_dataframe_merge_list = [alaskadomfin, wisconsdom2, allegient_dom2, american_dom2, commut_dom2,\n",
    "                                 delta_dom2, envoy_dom2,frontier_dom2, gojet_dom2, hawaii_dom2, horizon_dom2, \n",
    "                                 mesa_dom2, psa2, republic_dom2,skywest_dom2, sw_dom2,sum_cunt2,united_dom2\n",
    "                                ]"
   ]
  },
  {
   "cell_type": "code",
   "execution_count": null,
   "metadata": {},
   "outputs": [],
   "source": [
    "merged_df = pd.concat(domestic_dataframe_merge_list, axis=0, ignore_index=True)"
   ]
  },
  {
   "cell_type": "code",
   "execution_count": null,
   "metadata": {},
   "outputs": [],
   "source": [
    "df_2019 = merged_df[merged_df['Year'] == 2019]\n",
    "grouped_df = df_2019.groupby(['Airline'])['DOMESTIC'].sum().reset_index()\n",
    "\n",
    "# plot a pie chart\n",
    "plt.pie(grouped_df['DOMESTIC'], labels=grouped_df['Airline'])\n",
    "plt.title('Total Domestic Passengers by Airline in 2019')\n",
    "plt.show()"
   ]
  },
  {
   "cell_type": "code",
   "execution_count": null,
   "metadata": {},
   "outputs": [],
   "source": [
    "df_2020 = merged_df[merged_df['Year'] == 2020]\n",
    "grouped_df = df_2020.groupby(['Airline'])['DOMESTIC'].sum().reset_index()\n",
    "\n",
    "# plot a pie chart\n",
    "plt.pie(grouped_df['DOMESTIC'], labels=grouped_df['Airline'])\n",
    "plt.title('Total Domestic Passengers by Airline in 2020')\n",
    "plt.show()"
   ]
  },
  {
   "cell_type": "code",
   "execution_count": null,
   "metadata": {},
   "outputs": [],
   "source": [
    "df_2022 = merged_df[merged_df['Year'] == 2022]\n",
    "grouped_df = df_2022.groupby(['Airline'])['DOMESTIC'].sum().reset_index()\n",
    "\n",
    "# plot a pie chart\n",
    "plt.pie(grouped_df['DOMESTIC'], labels=grouped_df['Airline'])\n",
    "plt.title('Total Domestic Passengers by Airline in 2022')\n",
    "plt.show()"
   ]
  },
  {
   "cell_type": "code",
   "execution_count": null,
   "metadata": {},
   "outputs": [],
   "source": []
  },
  {
   "cell_type": "code",
   "execution_count": null,
   "metadata": {},
   "outputs": [],
   "source": [
    "import pandas as pd\n",
    "import matplotlib.pyplot as plt\n",
    "\n",
    "# Subset the merged_df dataframe for 2019 and 2020 data\n",
    "subset_df = merged_df.loc[merged_df['Year'].isin([2019, 2020])]\n",
    "\n",
    "# Group the data by Year and Airline, and calculate the sum of Domestic\n",
    "grouped_df = subset_df.groupby(['Year', 'Airline']).sum().reset_index()\n",
    "\n",
    "# Pivot the dataframe to make a grouped bar chart\n",
    "pivot_df = grouped_df.pivot(index='Airline', columns='Year', values='DOMESTIC')\n",
    "\n",
    "# Sort the values in descending order\n",
    "pivot_df = pivot_df.sort_values(by=2020, ascending=False)\n",
    "\n",
    "# Create a grouped bar chart\n",
    "ax = pivot_df.plot(kind='bar', figsize=(12, 8), width=0.8)\n",
    "\n",
    "# Add titles and labels\n",
    "ax.set_title('2019 vs 2020 Domestic Passengers by Airline')\n",
    "ax.set_xlabel('Airline')\n",
    "ax.set_ylabel('Number of Domestic Passengers')\n",
    "ax.legend(title='Year', labels=['2019', '2020'])\n",
    "\n",
    "plt.show()"
   ]
  },
  {
   "cell_type": "code",
   "execution_count": null,
   "metadata": {},
   "outputs": [],
   "source": [
    "######### INTERNATIONAL\n",
    "\n",
    "########"
   ]
  },
  {
   "cell_type": "code",
   "execution_count": null,
   "metadata": {},
   "outputs": [],
   "source": []
  },
  {
   "cell_type": "code",
   "execution_count": null,
   "metadata": {},
   "outputs": [],
   "source": [
    "df_list = [alaska_air, air_wisconsin, allegient_airways, american_airways , commutair_passenger\n",
    ", delta, eastern, envoy,frontier , gojet ,hawaii, horizon, jetblue,horizon\n",
    ", mesa,  republic, silver, skywest_air, sw ,united_airlines] #missing psa and sum_cunt"
   ]
  },
  {
   "cell_type": "code",
   "execution_count": null,
   "metadata": {},
   "outputs": [],
   "source": [
    "new_dfs = []\n",
    "gojet"
   ]
  },
  {
   "cell_type": "code",
   "execution_count": null,
   "metadata": {
    "scrolled": true
   },
   "outputs": [],
   "source": []
  },
  {
   "cell_type": "code",
   "execution_count": null,
   "metadata": {},
   "outputs": [],
   "source": []
  },
  {
   "cell_type": "code",
   "execution_count": null,
   "metadata": {},
   "outputs": [],
   "source": []
  },
  {
   "cell_type": "code",
   "execution_count": null,
   "metadata": {},
   "outputs": [],
   "source": [
    "for i, df in enumerate(df_list):\n",
    "    df = df.loc[: , [\"Year\", \"INTERNATIONAL\", \"Airline\"]]\n",
    "    new_dfs.append(df)"
   ]
  },
  {
   "cell_type": "code",
   "execution_count": null,
   "metadata": {},
   "outputs": [],
   "source": [
    "#new_dfs"
   ]
  },
  {
   "cell_type": "code",
   "execution_count": null,
   "metadata": {},
   "outputs": [],
   "source": [
    "for i in new_dfs:\n",
    "    i['INTERNATIONAL'] = i['INTERNATIONAL'].astype(str).str.replace(',',\"\")\n",
    "    i[\"INTERNATIONAL\"] = i[\"INTERNATIONAL\"].fillna('0')"
   ]
  },
  {
   "cell_type": "code",
   "execution_count": null,
   "metadata": {
    "scrolled": true
   },
   "outputs": [],
   "source": [
    "#new_dfs"
   ]
  },
  {
   "cell_type": "code",
   "execution_count": null,
   "metadata": {},
   "outputs": [],
   "source": [
    "for i in new_dfs:\n",
    "    i[\"Year\"] = i[\"Year\"].fillna(0).astype(int)"
   ]
  },
  {
   "cell_type": "code",
   "execution_count": null,
   "metadata": {},
   "outputs": [],
   "source": [
    "#new_dfs"
   ]
  },
  {
   "cell_type": "code",
   "execution_count": null,
   "metadata": {
    "scrolled": true
   },
   "outputs": [],
   "source": [
    "for i in new_dfs:\n",
    "    i.drop(i[i[\"INTERNATIONAL\"]== \"nan\"].index, inplace=True)    "
   ]
  },
  {
   "cell_type": "code",
   "execution_count": null,
   "metadata": {},
   "outputs": [],
   "source": [
    "#new_dfs"
   ]
  },
  {
   "cell_type": "code",
   "execution_count": null,
   "metadata": {},
   "outputs": [],
   "source": [
    "for i in new_dfs:\n",
    "    i[\"INTERNATIONAL\"] = i[\"INTERNATIONAL\"].astype(int)\n",
    "    \n",
    "    "
   ]
  },
  {
   "cell_type": "code",
   "execution_count": null,
   "metadata": {},
   "outputs": [],
   "source": [
    "#new_dfs\n"
   ]
  },
  {
   "cell_type": "code",
   "execution_count": null,
   "metadata": {},
   "outputs": [],
   "source": [
    "merged_df = pd.concat(new_dfs, ignore_index=True)\n",
    "\n",
    "\n"
   ]
  },
  {
   "cell_type": "code",
   "execution_count": null,
   "metadata": {},
   "outputs": [],
   "source": [
    "#merged_df\n",
    "\n"
   ]
  },
  {
   "cell_type": "code",
   "execution_count": null,
   "metadata": {},
   "outputs": [],
   "source": [
    "subset_df = merged_df.loc[merged_df['Year'].isin([2019, 2020])]\n",
    "\n",
    "# Group the data by Year and Airline, and calculate the sum of International\n",
    "grouped_df = subset_df.groupby(['Year', 'Airline']).sum().reset_index()\n",
    "\n",
    "# Pivot the dataframe to make a grouped bar chart\n",
    "pivot_df = grouped_df.pivot(index='Airline', columns='Year', values='INTERNATIONAL')\n",
    "\n",
    "# Sort the values in descending order\n",
    "pivot_df = pivot_df.sort_values(by=2020, ascending=False)\n",
    "\n",
    "# Create a grouped bar chart\n",
    "ax = pivot_df.plot(kind='bar', figsize=(12, 8), width=0.8)\n",
    "\n",
    "# Add titles and labels\n",
    "ax.set_title('2019 vs 2020 International Passengers by Airline')\n",
    "ax.set_xlabel('Airline')\n",
    "ax.set_ylabel('Number of International Passengers')\n",
    "ax.legend(title='Year', labels=['2019', '2020'])\n",
    "\n",
    "plt.show()\n"
   ]
  },
  {
   "cell_type": "code",
   "execution_count": null,
   "metadata": {},
   "outputs": [],
   "source": []
  }
 ],
 "metadata": {
  "celltoolbar": "Tags",
  "kernelspec": {
   "display_name": "Python 3",
   "language": "python",
   "name": "python3"
  },
  "language_info": {
   "codemirror_mode": {
    "name": "ipython",
    "version": 3
   },
   "file_extension": ".py",
   "mimetype": "text/x-python",
   "name": "python",
   "nbconvert_exporter": "python",
   "pygments_lexer": "ipython3",
   "version": "3.8.5"
  }
 },
 "nbformat": 4,
 "nbformat_minor": 4
}
