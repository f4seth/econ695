{
 "cells": [
  {
   "cell_type": "code",
   "execution_count": 1,
   "metadata": {},
   "outputs": [],
   "source": [
    "import pandas as pd\n",
    "import csv\n",
    "import os\n",
    "import datetime\n",
    "import pandas as pd\n",
    "import statsmodels.api as sm\n",
    "import matplotlib.pyplot as plt\n",
    "import numpy as np\n",
    "import time\n",
    "import pycountry\n",
    "import geopandas as gpd\n",
    "import shapely.wkt\n",
    "import seaborn as sns\n",
    "from shapely.geometry import Point\n",
    "import requests\n",
    "from bs4 import BeautifulSoup  "
   ]
  },
  {
   "cell_type": "code",
   "execution_count": 2,
   "metadata": {},
   "outputs": [],
   "source": [
    "#confirm the relative file path\n",
    "import os"
   ]
  },
  {
   "cell_type": "code",
   "execution_count": 3,
   "metadata": {},
   "outputs": [],
   "source": [
    "#Total Number Of Passenger Data\n",
    "\n",
    "alaska_air = pd.read_csv(\"Passenger Data/alaska_air.csv\")\n",
    "alaska_air = alaska_air.rename(columns=alaska_air.iloc[0])\n",
    "alaska_air = alaska_air.drop(0)\n",
    "alaska_air = alaska_air.drop([267,268,269,270])\n",
    "alaska_air = alaska_air[alaska_air[\"Month\"] != 'TOTAL']\n",
    "alaska_air['Airline'] = 'alaska air'"
   ]
  },
  {
   "cell_type": "code",
   "execution_count": 4,
   "metadata": {},
   "outputs": [],
   "source": [
    "\n",
    "air_wisconsin = pd.read_csv(\"Passenger Data/air_wisconsin.csv\")\n",
    "air_wisconsin = air_wisconsin.rename(columns=air_wisconsin.iloc[0])\n",
    "air_wisconsin = air_wisconsin.drop(0)\n",
    "air_wisconsin = air_wisconsin.drop([267,268,269,270])\n",
    "air_wisconsin = air_wisconsin[air_wisconsin[\"Month\"] != 'TOTAL']\n",
    "air_wisconsin['Airline'] = 'air_wisconsin'"
   ]
  },
  {
   "cell_type": "code",
   "execution_count": 5,
   "metadata": {},
   "outputs": [],
   "source": [
    "allegient_airways = pd.read_csv(\"Passenger Data/allegient_airways_passenger_data.csv\")\n",
    "allegient_airways = allegient_airways.rename(columns=allegient_airways.iloc[0])\n",
    "allegient_airways = allegient_airways.drop(0)\n",
    "allegient_airways = allegient_airways.drop([267,268,269,270])\n",
    "allegient_airways = allegient_airways[allegient_airways[\"Month\"] != 'TOTAL']\n",
    "allegient_airways['Airline'] = 'allegient_airways'"
   ]
  },
  {
   "cell_type": "code",
   "execution_count": 6,
   "metadata": {},
   "outputs": [],
   "source": [
    "american_airways = pd.read_csv(\"Passenger Data/american_airways.csv\")\n",
    "american_airways = american_airways.rename(columns=american_airways.iloc[0])\n",
    "american_airways = american_airways.drop(0)\n",
    "american_airways = american_airways.drop([267,268,269,270])\n",
    "american_airways = american_airways[american_airways[\"Month\"] != 'TOTAL']\n",
    "american_airways['Airline'] = 'american_airways'"
   ]
  },
  {
   "cell_type": "code",
   "execution_count": 7,
   "metadata": {},
   "outputs": [],
   "source": [
    "commutair_passenger = pd.read_csv(\"Passenger Data/commutair_passenger_data.csv\")\n",
    "commutair_passenger = commutair_passenger.rename(columns=commutair_passenger.iloc[0])\n",
    "commutair_passenger = commutair_passenger.drop(0)\n",
    "commutair_passenger = commutair_passenger.drop([267,268,269,270])\n",
    "commutair_passenger = commutair_passenger[commutair_passenger[\"Month\"] != 'TOTAL']\n",
    "commutair_passenger['Airline'] = 'commutair_passenger'"
   ]
  },
  {
   "cell_type": "code",
   "execution_count": 8,
   "metadata": {},
   "outputs": [],
   "source": [
    "delta = pd.read_csv(\"Passenger Data/delta_passengers_data.csv\")\n",
    "delta = delta.rename(columns=delta.iloc[0])\n",
    "delta = delta.drop(0)\n",
    "delta = delta.drop([267,268,269,270])\n",
    "delta = delta[delta[\"Month\"] != 'TOTAL']\n",
    "delta['Airline'] = 'delta'"
   ]
  },
  {
   "cell_type": "code",
   "execution_count": 9,
   "metadata": {},
   "outputs": [],
   "source": [
    "eastern = pd.read_csv(\"Passenger Data/eastern_passengers_data.csv\")\n",
    "eastern = eastern.rename(columns=eastern.iloc[0])\n",
    "eastern = eastern.drop(0)\n",
    "eastern = eastern.drop([38,39,40])\n",
    "eastern = eastern[eastern[\"Month\"] != 'TOTAL']\n",
    "eastern['Airline'] = 'eastern'\n",
    "#eastern"
   ]
  },
  {
   "cell_type": "code",
   "execution_count": 10,
   "metadata": {},
   "outputs": [],
   "source": [
    "envoy = pd.read_csv(\"Passenger Data/envoy_air.csv\")\n",
    "envoy = envoy.rename(columns=envoy.iloc[0])\n",
    "envoy = envoy.drop(0)\n",
    "envoy = envoy.drop([267,268,269,270])\n",
    "envoy = envoy[envoy[\"Month\"] != 'TOTAL']\n",
    "envoy['Airline'] = 'envoy'"
   ]
  },
  {
   "cell_type": "code",
   "execution_count": 11,
   "metadata": {},
   "outputs": [],
   "source": [
    "frontier = pd.read_csv(\"Passenger Data/frontier_passenger_data.csv\")\n",
    "frontier = frontier.rename(columns=frontier.iloc[0])\n",
    "frontier = frontier.drop(0)\n",
    "frontier = frontier.drop([267,268,269,270])\n",
    "frontier = frontier[frontier[\"Month\"] != 'TOTAL']\n",
    "frontier['Airline'] = 'frontier'"
   ]
  },
  {
   "cell_type": "code",
   "execution_count": 12,
   "metadata": {},
   "outputs": [],
   "source": [
    "gojet = pd.read_csv(\"Passenger Data/gojet_air_passenger_data.csv\")\n",
    "gojet = gojet.rename(columns=gojet.iloc[0])\n",
    "gojet = gojet.drop(0)\n",
    "gojet = gojet.drop([229, 230,231,232 ])\n",
    "gojet = gojet[gojet[\"Month\"] != 'TOTAL']\n",
    "gojet['Airline'] = 'gojet'"
   ]
  },
  {
   "cell_type": "code",
   "execution_count": 13,
   "metadata": {},
   "outputs": [],
   "source": [
    "hawaii = pd.read_csv(\"Passenger Data/hawaiin_airways_passenger_data.csv\")\n",
    "hawaii = hawaii.rename(columns=hawaii.iloc[0])\n",
    "hawaii = hawaii.drop(0)\n",
    "hawaii = hawaii.drop([267,268,269,270])\n",
    "hawaii = hawaii[hawaii[\"Month\"] != 'TOTAL']\n",
    "hawaii['Airline'] = 'hawaii'"
   ]
  },
  {
   "cell_type": "code",
   "execution_count": 14,
   "metadata": {},
   "outputs": [],
   "source": [
    "horizon = pd.read_csv(\"Passenger Data/horizon_air.csv\")\n",
    "horizon = horizon.rename(columns=horizon.iloc[0])\n",
    "horizon = horizon.drop(0)\n",
    "horizon = horizon.drop([267,268, 269, 270])\n",
    "horizon = horizon[horizon[\"Month\"] != 'TOTAL']\n",
    "horizon['Airline'] = 'horizon'"
   ]
  },
  {
   "cell_type": "code",
   "execution_count": 15,
   "metadata": {},
   "outputs": [],
   "source": [
    "jetblue = pd.read_csv(\"Passenger Data/jb_passenger_data.csv\")\n",
    "jetblue = jetblue.rename(columns=jetblue.iloc[0])\n",
    "jetblue = jetblue.drop(0)\n",
    "jetblue = jetblue.drop([267,268,270])\n",
    "jetblue = jetblue[jetblue[\"Month\"] != 'TOTAL']\n",
    "jetblue['Airline'] = 'jetblue'"
   ]
  },
  {
   "cell_type": "code",
   "execution_count": 16,
   "metadata": {},
   "outputs": [],
   "source": [
    "horizon = pd.read_csv(\"Passenger Data/horizon_air.csv\")\n",
    "horizon = horizon.rename(columns=horizon.iloc[0])\n",
    "horizon = horizon.drop(0)\n",
    "horizon = horizon.drop([267,268,269, 270])\n",
    "horizon = horizon[horizon[\"Month\"] != 'TOTAL']\n",
    "horizon['Airline'] = 'horizon'"
   ]
  },
  {
   "cell_type": "code",
   "execution_count": 17,
   "metadata": {},
   "outputs": [],
   "source": [
    "mesa = pd.read_csv(\"Passenger Data/mesa_airlines.csv\")\n",
    "mesa = mesa.rename(columns=mesa.iloc[0])\n",
    "mesa = mesa.drop(0)\n",
    "mesa = mesa.drop([267,268,269, 270])\n",
    "mesa = mesa[mesa[\"Month\"] != 'TOTAL']\n",
    "mesa['Airline'] = 'mesa'"
   ]
  },
  {
   "cell_type": "code",
   "execution_count": 18,
   "metadata": {},
   "outputs": [],
   "source": [
    "psa = pd.read_csv(\"Passenger Data/psa_airlines.csv\")\n",
    "psa = psa.rename(columns=psa.iloc[0])\n",
    "psa = psa.drop(0)\n",
    "psa = psa.drop([267,268,269,270])\n",
    "psa = psa[psa[\"Month\"] != 'TOTAL']\n",
    "psa['Airline'] = 'psa'"
   ]
  },
  {
   "cell_type": "code",
   "execution_count": 19,
   "metadata": {},
   "outputs": [],
   "source": [
    "republic = pd.read_csv(\"Passenger Data/republic_airlines.csv\")\n",
    "republic = republic.rename(columns=republic.iloc[0])\n",
    "republic = republic.drop(0)\n",
    "republic = republic.drop([230,231,232])\n",
    "republic = republic[republic[\"Month\"] != 'TOTAL']\n",
    "republic['Airline'] = 'republic'"
   ]
  },
  {
   "cell_type": "code",
   "execution_count": 20,
   "metadata": {},
   "outputs": [
    {
     "data": {
      "text/html": [
       "<div>\n",
       "<style scoped>\n",
       "    .dataframe tbody tr th:only-of-type {\n",
       "        vertical-align: middle;\n",
       "    }\n",
       "\n",
       "    .dataframe tbody tr th {\n",
       "        vertical-align: top;\n",
       "    }\n",
       "\n",
       "    .dataframe thead th {\n",
       "        text-align: right;\n",
       "    }\n",
       "</style>\n",
       "<table border=\"1\" class=\"dataframe\">\n",
       "  <thead>\n",
       "    <tr style=\"text-align: right;\">\n",
       "      <th></th>\n",
       "      <th>Year</th>\n",
       "      <th>Month</th>\n",
       "      <th>DOMESTIC</th>\n",
       "      <th>INTERNATIONAL</th>\n",
       "      <th>TOTAL</th>\n",
       "      <th>Airline</th>\n",
       "    </tr>\n",
       "  </thead>\n",
       "  <tbody>\n",
       "    <tr>\n",
       "      <th>1</th>\n",
       "      <td>2002</td>\n",
       "      <td>10</td>\n",
       "      <td>18,745</td>\n",
       "      <td>20,572</td>\n",
       "      <td>39,317</td>\n",
       "      <td>silver</td>\n",
       "    </tr>\n",
       "    <tr>\n",
       "      <th>2</th>\n",
       "      <td>2002</td>\n",
       "      <td>11</td>\n",
       "      <td>24,872</td>\n",
       "      <td>24,226</td>\n",
       "      <td>49,098</td>\n",
       "      <td>silver</td>\n",
       "    </tr>\n",
       "    <tr>\n",
       "      <th>3</th>\n",
       "      <td>2002</td>\n",
       "      <td>12</td>\n",
       "      <td>24,641</td>\n",
       "      <td>26,060</td>\n",
       "      <td>50,701</td>\n",
       "      <td>silver</td>\n",
       "    </tr>\n",
       "    <tr>\n",
       "      <th>5</th>\n",
       "      <td>2003</td>\n",
       "      <td>1</td>\n",
       "      <td>21,593</td>\n",
       "      <td>23,572</td>\n",
       "      <td>45,165</td>\n",
       "      <td>silver</td>\n",
       "    </tr>\n",
       "    <tr>\n",
       "      <th>6</th>\n",
       "      <td>2003</td>\n",
       "      <td>2</td>\n",
       "      <td>19,597</td>\n",
       "      <td>25,400</td>\n",
       "      <td>44,997</td>\n",
       "      <td>silver</td>\n",
       "    </tr>\n",
       "    <tr>\n",
       "      <th>...</th>\n",
       "      <td>...</td>\n",
       "      <td>...</td>\n",
       "      <td>...</td>\n",
       "      <td>...</td>\n",
       "      <td>...</td>\n",
       "      <td>...</td>\n",
       "    </tr>\n",
       "    <tr>\n",
       "      <th>260</th>\n",
       "      <td>2022</td>\n",
       "      <td>9</td>\n",
       "      <td>32,797</td>\n",
       "      <td>5,369</td>\n",
       "      <td>38,166</td>\n",
       "      <td>silver</td>\n",
       "    </tr>\n",
       "    <tr>\n",
       "      <th>261</th>\n",
       "      <td>2022</td>\n",
       "      <td>10</td>\n",
       "      <td>39,862</td>\n",
       "      <td>9,140</td>\n",
       "      <td>49,002</td>\n",
       "      <td>silver</td>\n",
       "    </tr>\n",
       "    <tr>\n",
       "      <th>262</th>\n",
       "      <td>2022</td>\n",
       "      <td>11</td>\n",
       "      <td>41,416</td>\n",
       "      <td>NaN</td>\n",
       "      <td>NaN</td>\n",
       "      <td>silver</td>\n",
       "    </tr>\n",
       "    <tr>\n",
       "      <th>263</th>\n",
       "      <td>2022</td>\n",
       "      <td>12</td>\n",
       "      <td>44,123</td>\n",
       "      <td>NaN</td>\n",
       "      <td>NaN</td>\n",
       "      <td>silver</td>\n",
       "    </tr>\n",
       "    <tr>\n",
       "      <th>265</th>\n",
       "      <td>2023</td>\n",
       "      <td>1</td>\n",
       "      <td>42,706</td>\n",
       "      <td>NaN</td>\n",
       "      <td>NaN</td>\n",
       "      <td>silver</td>\n",
       "    </tr>\n",
       "  </tbody>\n",
       "</table>\n",
       "<p>244 rows × 6 columns</p>\n",
       "</div>"
      ],
      "text/plain": [
       "     Year Month DOMESTIC INTERNATIONAL   TOTAL Airline\n",
       "1    2002    10   18,745        20,572  39,317  silver\n",
       "2    2002    11   24,872        24,226  49,098  silver\n",
       "3    2002    12   24,641        26,060  50,701  silver\n",
       "5    2003     1   21,593        23,572  45,165  silver\n",
       "6    2003     2   19,597        25,400  44,997  silver\n",
       "..    ...   ...      ...           ...     ...     ...\n",
       "260  2022     9   32,797         5,369  38,166  silver\n",
       "261  2022    10   39,862         9,140  49,002  silver\n",
       "262  2022    11   41,416           NaN     NaN  silver\n",
       "263  2022    12   44,123           NaN     NaN  silver\n",
       "265  2023     1   42,706           NaN     NaN  silver\n",
       "\n",
       "[244 rows x 6 columns]"
      ]
     },
     "execution_count": 20,
     "metadata": {},
     "output_type": "execute_result"
    }
   ],
   "source": [
    "silver = pd.read_csv(\"Passenger Data/silver_passenger_data.csv\")\n",
    "silver = silver.rename(columns=silver.iloc[0])\n",
    "silver = silver.drop(0)\n",
    "silver = silver.drop([267,268,269,270])\n",
    "silver = silver[silver[\"Month\"] != 'TOTAL']\n",
    "silver['Airline'] = 'silver'\n",
    "silver"
   ]
  },
  {
   "cell_type": "code",
   "execution_count": 21,
   "metadata": {},
   "outputs": [],
   "source": [
    "skywest_air = pd.read_csv(\"Passenger Data/skywest_air.csv\")\n",
    "skywest_air = skywest_air.rename(columns=skywest_air.iloc[0])\n",
    "skywest_air = skywest_air.drop(0)\n",
    "skywest_air = skywest_air.drop([267,268,269,270])\n",
    "skywest_air = skywest_air[skywest_air[\"Month\"] != 'TOTAL']\n",
    "skywest_air['Airline'] = 'skywest_air'"
   ]
  },
  {
   "cell_type": "code",
   "execution_count": 22,
   "metadata": {},
   "outputs": [],
   "source": [
    "sw = pd.read_csv(\"Passenger Data/southwestairlines_passengers.csv\")\n",
    "sw = sw.rename(columns=sw.iloc[0])\n",
    "sw = sw.drop(0)\n",
    "sw = sw.drop([267, 268, 269, 270])\n",
    "sw = sw[sw[\"Month\"] != 'TOTAL']\n",
    "sw['Airline'] = 'sw'"
   ]
  },
  {
   "cell_type": "code",
   "execution_count": 23,
   "metadata": {},
   "outputs": [],
   "source": [
    "spirit_air = pd.read_csv(\"Passenger Data/spirit_air.csv\")\n",
    "spirit_air = spirit_air.rename(columns=spirit_air.iloc[0])\n",
    "spirit_air = spirit_air.drop(0)\n",
    "spirit_air = spirit_air.drop([267, 268, 269, 270])\n",
    "spirit_air = spirit_air[spirit_air[\"Month\"] != 'TOTAL']\n",
    "spirit_air['Airline'] = 'spirt'"
   ]
  },
  {
   "cell_type": "code",
   "execution_count": 24,
   "metadata": {},
   "outputs": [],
   "source": [
    "sum_cunt = pd.read_csv(\"Passenger Data/sun_country_air.csv\")\n",
    "sum_cunt = sum_cunt.rename(columns=sum_cunt.iloc[0])\n",
    "sum_cunt = sum_cunt.drop(0)\n",
    "sum_cunt = sum_cunt.drop([266, 267, 268, 269])\n",
    "sum_cunt = sum_cunt[sum_cunt[\"Month\"] != 'TOTAL']\n",
    "sum_cunt['Airline'] = 'sum_cunt'"
   ]
  },
  {
   "cell_type": "code",
   "execution_count": 25,
   "metadata": {
    "scrolled": true
   },
   "outputs": [],
   "source": [
    "united_airlines = pd.read_csv(\"Passenger Data/united_airlines.csv\")\n",
    "united_airlines = united_airlines.rename(columns=united_airlines.iloc[0])\n",
    "united_airlines = united_airlines.drop(0)\n",
    "united_airlines = united_airlines.drop([267, 268, 269, 270])\n",
    "united_airlines = united_airlines[united_airlines[\"Month\"] != 'TOTAL']\n",
    "united_airlines['Airline'] = 'united_airlines'"
   ]
  },
  {
   "cell_type": "code",
   "execution_count": 26,
   "metadata": {},
   "outputs": [],
   "source": [
    "uadom = united_airlines.loc[:, [\"Year\", \"DOMESTIC\", \"Airline\"]]"
   ]
  },
  {
   "cell_type": "code",
   "execution_count": 27,
   "metadata": {
    "scrolled": true
   },
   "outputs": [],
   "source": [
    "#replace commas in Domestic, international, and Total string\n",
    "uadom['DOMESTIC']= uadom['DOMESTIC'].str.replace(',',\"\")\n"
   ]
  },
  {
   "cell_type": "code",
   "execution_count": 28,
   "metadata": {},
   "outputs": [],
   "source": [
    "uadom[\"DOMESTIC\"] = uadom[\"DOMESTIC\"].astype(int)\n",
    "uadom[\"Year\"] = uadom[\"Year\"].astype(int)\n",
    "uadom2 = uadom.groupby('Year').sum()\n",
    "uadom2[\"airline\"] = \"United Airlines\"\n"
   ]
  },
  {
   "cell_type": "code",
   "execution_count": 29,
   "metadata": {},
   "outputs": [],
   "source": [
    "#Put all the data frames in a LIST: \n",
    "\n",
    "df_list = [alaska_air, air_wisconsin, allegient_airways, american_airways , commutair_passenger\n",
    ", delta, eastern, envoy,frontier , gojet ,hawaii, horizon, jetblue,horizon\n",
    ", mesa, psa, republic, silver, skywest_air, sw,sum_cunt ,united_airlines]"
   ]
  },
  {
   "cell_type": "code",
   "execution_count": 30,
   "metadata": {},
   "outputs": [],
   "source": [
    "edited_dfs = []\n"
   ]
  },
  {
   "cell_type": "code",
   "execution_count": 31,
   "metadata": {},
   "outputs": [],
   "source": [
    "#edited_dfs is a list of all of the domestic airlines  \n",
    "\n",
    "for i, df in enumerate(df_list):\n",
    "    uadom = df.loc[:, [\"Year\", \"DOMESTIC\", \"Airline\"]]\n",
    "    new_name = df_list[i] + \"_dom\"   # add \"_domestic\" to the original dataframe name\n",
    "    edited_dfs.append((new_name,uadom))"
   ]
  },
  {
   "cell_type": "code",
   "execution_count": 32,
   "metadata": {},
   "outputs": [],
   "source": [
    "#Domestic_list of edited airlines \n",
    "dom_list = [tup[1] for tup in edited_dfs]\n"
   ]
  },
  {
   "cell_type": "code",
   "execution_count": 33,
   "metadata": {},
   "outputs": [],
   "source": [
    "# Take out the comma in each domestic dataframe\n",
    "\n",
    "for i in dom_list:\n",
    "    i['DOMESTIC'] = i['DOMESTIC'].astype(str).str.replace(',',\"\")\n",
    "    i[\"DOMESTIC\"] = i[\"DOMESTIC\"].fillna('0')\n"
   ]
  },
  {
   "cell_type": "code",
   "execution_count": 34,
   "metadata": {},
   "outputs": [],
   "source": [
    "for i in dom_list:\n",
    "     i[\"Year\"] = i[\"Year\"].fillna(0).astype(int)"
   ]
  },
  {
   "cell_type": "code",
   "execution_count": 35,
   "metadata": {},
   "outputs": [
    {
     "name": "stdout",
     "output_type": "stream",
     "text": [
      "     Year DOMESTIC     Airline\n",
      "1    2002   931774  alaska air\n",
      "2    2002   899258  alaska air\n",
      "3    2002  1082705  alaska air\n",
      "5    2003   878763  alaska air\n",
      "6    2003   856459  alaska air\n",
      "..    ...      ...         ...\n",
      "260  2022  2578335  alaska air\n",
      "261  2022  2675142  alaska air\n",
      "262  2022  2511917  alaska air\n",
      "263  2022  2535857  alaska air\n",
      "265  2023  2328815  alaska air\n",
      "\n",
      "[244 rows x 3 columns]\n",
      "     Year DOMESTIC        Airline\n",
      "1    2002   331696  air_wisconsin\n",
      "2    2002   311992  air_wisconsin\n",
      "3    2002   402927  air_wisconsin\n",
      "5    2003   398763  air_wisconsin\n",
      "6    2003   403189  air_wisconsin\n",
      "..    ...      ...            ...\n",
      "260  2022   239558  air_wisconsin\n",
      "261  2022   248783  air_wisconsin\n",
      "262  2022   209077  air_wisconsin\n",
      "263  2022   191423  air_wisconsin\n",
      "265  2023   197513  air_wisconsin\n",
      "\n",
      "[244 rows x 3 columns]\n",
      "     Year DOMESTIC            Airline\n",
      "1    2002     8325  allegient_airways\n",
      "2    2002    10088  allegient_airways\n",
      "3    2002    12193  allegient_airways\n",
      "5    2003    10829  allegient_airways\n",
      "6    2003     9590  allegient_airways\n",
      "..    ...      ...                ...\n",
      "260  2022  1013003  allegient_airways\n",
      "261  2022  1257125  allegient_airways\n",
      "262  2022  1199479  allegient_airways\n",
      "263  2022  1453675  allegient_airways\n",
      "265  2023  1205266  allegient_airways\n",
      "\n",
      "[244 rows x 3 columns]\n",
      "     Year  DOMESTIC           Airline\n",
      "1    2002   6483209  american_airways\n",
      "2    2002   5836804  american_airways\n",
      "3    2002   6473000  american_airways\n",
      "5    2003   5659172  american_airways\n",
      "6    2003   5224456  american_airways\n",
      "..    ...       ...               ...\n",
      "260  2022  10068232  american_airways\n",
      "261  2022  11151633  american_airways\n",
      "262  2022  10305541  american_airways\n",
      "263  2022  10575179  american_airways\n",
      "265  2023   9503838  american_airways\n",
      "\n",
      "[244 rows x 3 columns]\n",
      "     Year DOMESTIC              Airline\n",
      "1    2002    18863  commutair_passenger\n",
      "2    2002    14478  commutair_passenger\n",
      "3    2002    12703  commutair_passenger\n",
      "5    2003    13119  commutair_passenger\n",
      "6    2003    14474  commutair_passenger\n",
      "..    ...      ...                  ...\n",
      "260  2022   291933  commutair_passenger\n",
      "261  2022   295961  commutair_passenger\n",
      "262  2022   273784  commutair_passenger\n",
      "263  2022   278970  commutair_passenger\n",
      "265  2023   264663  commutair_passenger\n",
      "\n",
      "[244 rows x 3 columns]\n",
      "     Year  DOMESTIC Airline\n",
      "1    2002   7079446   delta\n",
      "2    2002   6612595   delta\n",
      "3    2002   7220998   delta\n",
      "5    2003   6256572   delta\n",
      "6    2003   5870602   delta\n",
      "..    ...       ...     ...\n",
      "260  2022  10316884   delta\n",
      "261  2022  10681737   delta\n",
      "262  2022  10455853   delta\n",
      "263  2022  10311823   delta\n",
      "265  2023   9700887   delta\n",
      "\n",
      "[244 rows x 3 columns]\n",
      "    Year DOMESTIC  Airline\n",
      "1   2020      nan  eastern\n",
      "2   2020      nan  eastern\n",
      "3   2020      nan  eastern\n",
      "4   2020      140  eastern\n",
      "5   2020      nan  eastern\n",
      "6   2020      nan  eastern\n",
      "7   2020      nan  eastern\n",
      "8   2020      nan  eastern\n",
      "9   2020      nan  eastern\n",
      "10  2020      185  eastern\n",
      "11  2020      nan  eastern\n",
      "12  2020      nan  eastern\n",
      "14  2021      nan  eastern\n",
      "15  2021      nan  eastern\n",
      "16  2021      nan  eastern\n",
      "17  2021      nan  eastern\n",
      "18  2021      nan  eastern\n",
      "19  2021      nan  eastern\n",
      "20  2021      nan  eastern\n",
      "21  2021      nan  eastern\n",
      "22  2021      nan  eastern\n",
      "23  2021      nan  eastern\n",
      "24  2021      nan  eastern\n",
      "25  2021      nan  eastern\n",
      "27  2022      nan  eastern\n",
      "28  2022      nan  eastern\n",
      "29  2022       80  eastern\n",
      "30  2022      nan  eastern\n",
      "31  2022      nan  eastern\n",
      "32  2022      nan  eastern\n",
      "33  2022      nan  eastern\n",
      "34  2022      nan  eastern\n",
      "35  2022      nan  eastern\n",
      "37     0      nan  eastern\n",
      "     Year DOMESTIC Airline\n",
      "1    2002   966531   envoy\n",
      "2    2002   871209   envoy\n",
      "3    2002   927208   envoy\n",
      "5    2003   819868   envoy\n",
      "6    2003   787006   envoy\n",
      "..    ...      ...     ...\n",
      "260  2022  1085989   envoy\n",
      "261  2022  1116609   envoy\n",
      "262  2022   965224   envoy\n",
      "263  2022  1020018   envoy\n",
      "265  2023   931878   envoy\n",
      "\n",
      "[244 rows x 3 columns]\n",
      "     Year DOMESTIC   Airline\n",
      "1    2002   311440  frontier\n",
      "2    2002   295688  frontier\n",
      "3    2002   386895  frontier\n",
      "5    2003   308392  frontier\n",
      "6    2003   244482  frontier\n",
      "..    ...      ...       ...\n",
      "260  2022  1953633  frontier\n",
      "261  2022  2235903  frontier\n",
      "262  2022  2098562  frontier\n",
      "263  2022  2107775  frontier\n",
      "265  2023  1954883  frontier\n",
      "\n",
      "[244 rows x 3 columns]\n",
      "     Year DOMESTIC Airline\n",
      "1    2005     1012   gojet\n",
      "2    2005    22289   gojet\n",
      "3    2005    36555   gojet\n",
      "4    2005    47708   gojet\n",
      "6    2006    67660   gojet\n",
      "..    ...      ...     ...\n",
      "222  2022   161171   gojet\n",
      "223  2022   144777   gojet\n",
      "224  2022   119483   gojet\n",
      "225  2022   137146   gojet\n",
      "227  2023   133393   gojet\n",
      "\n",
      "[209 rows x 3 columns]\n",
      "     Year DOMESTIC Airline\n",
      "1    2002   443823  hawaii\n",
      "2    2002   430822  hawaii\n",
      "3    2002   466366  hawaii\n",
      "5    2003   445822  hawaii\n",
      "6    2003   422443  hawaii\n",
      "..    ...      ...     ...\n",
      "260  2022   799672  hawaii\n",
      "261  2022   845490  hawaii\n",
      "262  2022   790337  hawaii\n",
      "263  2022   862329  hawaii\n",
      "265  2023   810115  hawaii\n",
      "\n",
      "[244 rows x 3 columns]\n",
      "     Year DOMESTIC  Airline\n",
      "1    2002   333584  horizon\n",
      "2    2002   327200  horizon\n",
      "3    2002   393227  horizon\n",
      "5    2003   305197  horizon\n",
      "6    2003   292651  horizon\n",
      "..    ...      ...      ...\n",
      "260  2022   438925  horizon\n",
      "261  2022   351779  horizon\n",
      "262  2022   338027  horizon\n",
      "263  2022   328665  horizon\n",
      "265  2023   304260  horizon\n",
      "\n",
      "[244 rows x 3 columns]\n",
      "     Year DOMESTIC  Airline\n",
      "1    2002   546693  jetblue\n",
      "2    2002   542247  jetblue\n",
      "3    2002   637705  jetblue\n",
      "5    2003   644223  jetblue\n",
      "6    2003   599360  jetblue\n",
      "..    ...      ...      ...\n",
      "261  2022  2750870  jetblue\n",
      "262  2022  2759529  jetblue\n",
      "263  2022  2790510  jetblue\n",
      "265  2023  2466984  jetblue\n",
      "269     0      nan  jetblue\n",
      "\n",
      "[245 rows x 3 columns]\n",
      "     Year DOMESTIC  Airline\n",
      "1    2002   333584  horizon\n",
      "2    2002   327200  horizon\n",
      "3    2002   393227  horizon\n",
      "5    2003   305197  horizon\n",
      "6    2003   292651  horizon\n",
      "..    ...      ...      ...\n",
      "260  2022   438925  horizon\n",
      "261  2022   351779  horizon\n",
      "262  2022   338027  horizon\n",
      "263  2022   328665  horizon\n",
      "265  2023   304260  horizon\n",
      "\n",
      "[244 rows x 3 columns]\n",
      "     Year DOMESTIC Airline\n",
      "1    2002   374036    mesa\n",
      "2    2002   342955    mesa\n",
      "3    2002   357766    mesa\n",
      "5    2003   280554    mesa\n",
      "6    2003   277947    mesa\n",
      "..    ...      ...     ...\n",
      "260  2022   555370    mesa\n",
      "261  2022   568003    mesa\n",
      "262  2022   563250    mesa\n",
      "263  2022   513372    mesa\n",
      "265  2023   460646    mesa\n",
      "\n",
      "[244 rows x 3 columns]\n",
      "     Year DOMESTIC Airline\n",
      "1    2002    94081     psa\n",
      "2    2002    90348     psa\n",
      "3    2002    98746     psa\n",
      "5    2003    73203     psa\n",
      "6    2003    75019     psa\n",
      "..    ...      ...     ...\n",
      "260  2022   951975     psa\n",
      "261  2022   972123     psa\n",
      "262  2022   840461     psa\n",
      "263  2022   809800     psa\n",
      "265  2023   775402     psa\n",
      "\n",
      "[244 rows x 3 columns]\n",
      "     Year DOMESTIC   Airline\n",
      "1    2005     9495  republic\n",
      "2    2005    13125  republic\n",
      "3    2005    27905  republic\n",
      "4    2005    40463  republic\n",
      "6    2006    49275  republic\n",
      "..    ...      ...       ...\n",
      "223  2022  1291685  republic\n",
      "224  2022  1006845  republic\n",
      "225  2022   964969  republic\n",
      "227  2023   876898  republic\n",
      "229     0      nan  republic\n",
      "\n",
      "[210 rows x 3 columns]\n",
      "     Year DOMESTIC Airline\n",
      "1    2002    18745  silver\n",
      "2    2002    24872  silver\n",
      "3    2002    24641  silver\n",
      "5    2003    21593  silver\n",
      "6    2003    19597  silver\n",
      "..    ...      ...     ...\n",
      "260  2022    32797  silver\n",
      "261  2022    39862  silver\n",
      "262  2022    41416  silver\n",
      "263  2022    44123  silver\n",
      "265  2023    42706  silver\n",
      "\n",
      "[244 rows x 3 columns]\n",
      "     Year DOMESTIC      Airline\n",
      "1    2002   724267  skywest_air\n",
      "2    2002   703437  skywest_air\n",
      "3    2002   785685  skywest_air\n",
      "5    2003   702147  skywest_air\n",
      "6    2003   704287  skywest_air\n",
      "..    ...      ...          ...\n",
      "260  2022  3441358  skywest_air\n",
      "261  2022  3404092  skywest_air\n",
      "262  2022  3047129  skywest_air\n",
      "263  2022  2685204  skywest_air\n",
      "265  2023  2515452  skywest_air\n",
      "\n",
      "[244 rows x 3 columns]\n",
      "     Year  DOMESTIC Airline\n",
      "1    2002   6063128      sw\n",
      "2    2002   5598102      sw\n",
      "3    2002   6104562      sw\n",
      "5    2003   5484294      sw\n",
      "6    2003   5357402      sw\n",
      "..    ...       ...     ...\n",
      "260  2022  13530501      sw\n",
      "261  2022  14535484      sw\n",
      "262  2022  13478980      sw\n",
      "263  2022  11622488      sw\n",
      "265  2023  11420196      sw\n",
      "\n",
      "[244 rows x 3 columns]\n",
      "     Year DOMESTIC   Airline\n",
      "1    2002    44030  sum_cunt\n",
      "2    2002    40450  sum_cunt\n",
      "3    2002    51187  sum_cunt\n",
      "5    2003    56487  sum_cunt\n",
      "6    2003    73067  sum_cunt\n",
      "..    ...      ...       ...\n",
      "259  2022   192138  sum_cunt\n",
      "260  2022   261618  sum_cunt\n",
      "261  2022   268339  sum_cunt\n",
      "262  2022   298045  sum_cunt\n",
      "264  2023   219022  sum_cunt\n",
      "\n",
      "[243 rows x 3 columns]\n",
      "     Year DOMESTIC          Airline\n",
      "1    2002  4830714  united_airlines\n",
      "2    2002  4348668  united_airlines\n",
      "3    2002  5069138  united_airlines\n",
      "5    2003  4369263  united_airlines\n",
      "6    2003  4102945  united_airlines\n",
      "..    ...      ...              ...\n",
      "260  2022  7335244  united_airlines\n",
      "261  2022  8334111  united_airlines\n",
      "262  2022  7665341  united_airlines\n",
      "263  2022  8190887  united_airlines\n",
      "265  2023  7516570  united_airlines\n",
      "\n",
      "[244 rows x 3 columns]\n"
     ]
    }
   ],
   "source": [
    "for i in dom_list:\n",
    "    print(i)\n"
   ]
  },
  {
   "cell_type": "code",
   "execution_count": 36,
   "metadata": {},
   "outputs": [],
   "source": [
    "# Domestic Charts"
   ]
  },
  {
   "cell_type": "code",
   "execution_count": 37,
   "metadata": {},
   "outputs": [],
   "source": [
    "alaskadom = dom_list[0]\n",
    "alaskadom[\"DOMESTIC\"] = alaskadom[\"DOMESTIC\"].astype(int)\n",
    "alaskadom[\"Year\"] = alaskadom[\"Year\"].astype(int)\n",
    "alaskadomfin = alaskadom.groupby(['Year', 'Airline']).sum().reset_index()\n",
    "alaskadomfin = alaskadomfin.loc[alaskadomfin[\"Year\"].isin([2019, 2020,2021,2022])]"
   ]
  },
  {
   "cell_type": "code",
   "execution_count": 38,
   "metadata": {},
   "outputs": [],
   "source": [
    "# Wisconsin Air Domestic\n",
    "\n",
    "wisconsin_dom = dom_list[1]\n",
    "wisconsin_dom[\"DOMESTIC\"] = wisconsin_dom[\"DOMESTIC\"].astype(int)\n",
    "wisconsin_dom[\"Year\"] = wisconsin_dom[\"Year\"].astype(int)\n",
    "wisconsdom2 = wisconsin_dom.groupby(['Year', 'Airline']).sum().reset_index()\n",
    "wisconsdom2 = wisconsdom2.loc[wisconsdom2[\"Year\"].isin([2019, 2020,2021,2022])]\n"
   ]
  },
  {
   "cell_type": "code",
   "execution_count": 39,
   "metadata": {},
   "outputs": [],
   "source": [
    "allegient_dom = dom_list[2]\n",
    "allegient_dom[\"DOMESTIC\"] = allegient_dom[\"DOMESTIC\"].astype(int)\n",
    "allegient_dom[\"Year\"] = allegient_dom[\"Year\"].astype(int)\n",
    "allegient_dom2 = allegient_dom.groupby(['Year', 'Airline']).sum().reset_index()\n",
    "allegient_dom2 = allegient_dom2.loc[allegient_dom2[\"Year\"].isin([2019, 2020,2021,2022])]"
   ]
  },
  {
   "cell_type": "code",
   "execution_count": 40,
   "metadata": {},
   "outputs": [],
   "source": [
    "american_dom = dom_list[3]\n",
    "american_dom[\"DOMESTIC\"] = american_dom[\"DOMESTIC\"].astype(int)\n",
    "american_dom[\"Year\"] = american_dom[\"Year\"].astype(int)\n",
    "american_dom2 = american_dom.groupby(['Year', 'Airline']).sum().reset_index()\n",
    "american_dom2 = american_dom2.loc[american_dom2[\"Year\"].isin([2019, 2020,2021,2022])]"
   ]
  },
  {
   "cell_type": "code",
   "execution_count": 41,
   "metadata": {},
   "outputs": [],
   "source": [
    "commut_dom = dom_list[4]\n",
    "commut_dom[\"DOMESTIC\"] = commut_dom[\"DOMESTIC\"].astype(int)\n",
    "commut_dom[\"Year\"] = commut_dom[\"Year\"].astype(int)\n",
    "commut_dom2 = commut_dom.groupby(['Year', 'Airline']).sum().reset_index()\n",
    "commut_dom2 = commut_dom2.loc[commut_dom2[\"Year\"].isin([2019, 2020,2021,2022])]"
   ]
  },
  {
   "cell_type": "code",
   "execution_count": 42,
   "metadata": {},
   "outputs": [],
   "source": [
    "delta_dom = dom_list[5]\n",
    "delta_dom[\"DOMESTIC\"] = delta_dom[\"DOMESTIC\"].astype(int)\n",
    "delta_dom[\"Year\"] = delta_dom[\"Year\"].astype(int)\n",
    "delta_dom2 = delta_dom.groupby(['Year', 'Airline']).sum().reset_index()\n",
    "delta_dom2 = delta_dom2.loc[delta_dom2[\"Year\"].isin([2019, 2020,2021,2022])]"
   ]
  },
  {
   "cell_type": "code",
   "execution_count": 43,
   "metadata": {},
   "outputs": [],
   "source": [
    "#eastern_dom = dom_list[6]\n",
    "#eastern_dom[\"DOMESTIC\"] = eastern_dom[\"DOMESTIC\"].astype(int)\n",
    "#eastern_dom[\"Year\"] = eastern_dom[\"Year\"].astype(int)\n",
    "#eastern_dom2 = eastern_dom.groupby(['Year', 'Airline']).sum().reset_index()\n",
    "#eastern_dom2 = eastern_dom2.loc[eastern_dom2[\"Year\"].isin([2019, 2020,2021,2022])]"
   ]
  },
  {
   "cell_type": "code",
   "execution_count": 44,
   "metadata": {},
   "outputs": [],
   "source": [
    "envoy_dom = dom_list[7]\n",
    "envoy_dom[\"DOMESTIC\"] = envoy_dom[\"DOMESTIC\"].astype(int)\n",
    "envoy_dom[\"Year\"] = envoy_dom[\"Year\"].astype(int)\n",
    "envoy_dom2 = envoy_dom.groupby(['Year', 'Airline']).sum().reset_index()\n",
    "envoy_dom2 = envoy_dom2.loc[envoy_dom2[\"Year\"].isin([2019, 2020,2021,2022])]"
   ]
  },
  {
   "cell_type": "code",
   "execution_count": 45,
   "metadata": {},
   "outputs": [],
   "source": [
    "frontier_dom = dom_list[8]\n",
    "frontier_dom[\"DOMESTIC\"] = frontier_dom[\"DOMESTIC\"].astype(int)\n",
    "frontier_dom[\"Year\"] = frontier_dom[\"Year\"].astype(int)\n",
    "frontier_dom2 = frontier_dom.groupby(['Year', 'Airline']).sum().reset_index()\n",
    "frontier_dom2 = frontier_dom2.loc[frontier_dom2[\"Year\"].isin([2019, 2020,2021,2022])]"
   ]
  },
  {
   "cell_type": "code",
   "execution_count": 46,
   "metadata": {},
   "outputs": [],
   "source": [
    "gojet_dom = dom_list[9]\n",
    "gojet_dom[\"DOMESTIC\"] = gojet_dom[\"DOMESTIC\"].astype(int)\n",
    "gojet_dom[\"Year\"] = gojet_dom[\"Year\"].astype(int)\n",
    "gojet_dom2 = gojet_dom.groupby(['Year', 'Airline']).sum().reset_index()\n",
    "gojet_dom2 = gojet_dom2.loc[gojet_dom2[\"Year\"].isin([2019, 2020,2021,2022])]"
   ]
  },
  {
   "cell_type": "code",
   "execution_count": 47,
   "metadata": {},
   "outputs": [],
   "source": [
    "hawaii_dom = dom_list[10]\n",
    "hawaii_dom[\"DOMESTIC\"] = hawaii_dom[\"DOMESTIC\"].astype(int)\n",
    "hawaii_dom[\"Year\"] = hawaii_dom[\"Year\"].astype(int)\n",
    "hawaii_dom2 = hawaii_dom.groupby(['Year', 'Airline']).sum().reset_index()\n",
    "hawaii_dom2 = hawaii_dom2.loc[hawaii_dom2[\"Year\"].isin([2019, 2020,2021,2022])]"
   ]
  },
  {
   "cell_type": "code",
   "execution_count": 48,
   "metadata": {},
   "outputs": [],
   "source": [
    "horizon_dom = dom_list[11]\n",
    "horizon_dom[\"DOMESTIC\"] = horizon_dom[\"DOMESTIC\"].astype(int)\n",
    "horizon_dom[\"Year\"] = horizon_dom[\"Year\"].astype(int)\n",
    "horizon_dom2 = horizon_dom.groupby(['Year', 'Airline']).sum().reset_index()\n",
    "horizon_dom2 = horizon_dom2.loc[horizon_dom2[\"Year\"].isin([2019, 2020,2021,2022])]"
   ]
  },
  {
   "cell_type": "code",
   "execution_count": 49,
   "metadata": {},
   "outputs": [],
   "source": [
    "mesa_dom = dom_list[13]\n",
    "mesa_dom[\"DOMESTIC\"] = mesa_dom[\"DOMESTIC\"].astype(int)\n",
    "mesa_dom[\"Year\"] = mesa_dom[\"Year\"].astype(int)\n",
    "mesa_dom2 = mesa_dom.groupby(['Year', 'Airline']).sum().reset_index()\n",
    "mesa_dom2 = mesa_dom2.loc[mesa_dom2[\"Year\"].isin([2019, 2020,2021,2022])]"
   ]
  },
  {
   "cell_type": "code",
   "execution_count": 50,
   "metadata": {},
   "outputs": [
    {
     "data": {
      "text/html": [
       "<div>\n",
       "<style scoped>\n",
       "    .dataframe tbody tr th:only-of-type {\n",
       "        vertical-align: middle;\n",
       "    }\n",
       "\n",
       "    .dataframe tbody tr th {\n",
       "        vertical-align: top;\n",
       "    }\n",
       "\n",
       "    .dataframe thead th {\n",
       "        text-align: right;\n",
       "    }\n",
       "</style>\n",
       "<table border=\"1\" class=\"dataframe\">\n",
       "  <thead>\n",
       "    <tr style=\"text-align: right;\">\n",
       "      <th></th>\n",
       "      <th>Year</th>\n",
       "      <th>DOMESTIC</th>\n",
       "      <th>Airline</th>\n",
       "    </tr>\n",
       "  </thead>\n",
       "  <tbody>\n",
       "    <tr>\n",
       "      <th>1</th>\n",
       "      <td>2002</td>\n",
       "      <td>374036</td>\n",
       "      <td>mesa</td>\n",
       "    </tr>\n",
       "    <tr>\n",
       "      <th>2</th>\n",
       "      <td>2002</td>\n",
       "      <td>342955</td>\n",
       "      <td>mesa</td>\n",
       "    </tr>\n",
       "    <tr>\n",
       "      <th>3</th>\n",
       "      <td>2002</td>\n",
       "      <td>357766</td>\n",
       "      <td>mesa</td>\n",
       "    </tr>\n",
       "    <tr>\n",
       "      <th>5</th>\n",
       "      <td>2003</td>\n",
       "      <td>280554</td>\n",
       "      <td>mesa</td>\n",
       "    </tr>\n",
       "    <tr>\n",
       "      <th>6</th>\n",
       "      <td>2003</td>\n",
       "      <td>277947</td>\n",
       "      <td>mesa</td>\n",
       "    </tr>\n",
       "    <tr>\n",
       "      <th>...</th>\n",
       "      <td>...</td>\n",
       "      <td>...</td>\n",
       "      <td>...</td>\n",
       "    </tr>\n",
       "    <tr>\n",
       "      <th>260</th>\n",
       "      <td>2022</td>\n",
       "      <td>555370</td>\n",
       "      <td>mesa</td>\n",
       "    </tr>\n",
       "    <tr>\n",
       "      <th>261</th>\n",
       "      <td>2022</td>\n",
       "      <td>568003</td>\n",
       "      <td>mesa</td>\n",
       "    </tr>\n",
       "    <tr>\n",
       "      <th>262</th>\n",
       "      <td>2022</td>\n",
       "      <td>563250</td>\n",
       "      <td>mesa</td>\n",
       "    </tr>\n",
       "    <tr>\n",
       "      <th>263</th>\n",
       "      <td>2022</td>\n",
       "      <td>513372</td>\n",
       "      <td>mesa</td>\n",
       "    </tr>\n",
       "    <tr>\n",
       "      <th>265</th>\n",
       "      <td>2023</td>\n",
       "      <td>460646</td>\n",
       "      <td>mesa</td>\n",
       "    </tr>\n",
       "  </tbody>\n",
       "</table>\n",
       "<p>244 rows × 3 columns</p>\n",
       "</div>"
      ],
      "text/plain": [
       "     Year DOMESTIC Airline\n",
       "1    2002   374036    mesa\n",
       "2    2002   342955    mesa\n",
       "3    2002   357766    mesa\n",
       "5    2003   280554    mesa\n",
       "6    2003   277947    mesa\n",
       "..    ...      ...     ...\n",
       "260  2022   555370    mesa\n",
       "261  2022   568003    mesa\n",
       "262  2022   563250    mesa\n",
       "263  2022   513372    mesa\n",
       "265  2023   460646    mesa\n",
       "\n",
       "[244 rows x 3 columns]"
      ]
     },
     "execution_count": 50,
     "metadata": {},
     "output_type": "execute_result"
    }
   ],
   "source": [
    "dom_list[14]"
   ]
  },
  {
   "cell_type": "code",
   "execution_count": 51,
   "metadata": {},
   "outputs": [],
   "source": [
    "psa = dom_list[14]\n",
    "psa[\"DOMESTIC\"] = psa[\"DOMESTIC\"].astype(int)\n",
    "psa[\"Year\"] = psa[\"Year\"].astype(int)\n",
    "psa2 = psa.groupby(['Year', 'Airline']).sum().reset_index()\n",
    "psa2 = psa2.loc[psa2[\"Year\"].isin([2019, 2020,2021,2022])]"
   ]
  },
  {
   "cell_type": "code",
   "execution_count": 52,
   "metadata": {},
   "outputs": [],
   "source": [
    "republic_dom = dom_list[15]\n",
    "republic_dom[\"DOMESTIC\"] = republic_dom[\"DOMESTIC\"].astype(int)\n",
    "republic_dom[\"Year\"] = republic_dom[\"Year\"].astype(int)\n",
    "republic_dom2 = republic_dom.groupby(['Year', 'Airline']).sum().reset_index()\n",
    "republic_dom2 = republic_dom2.loc[republic_dom2[\"Year\"].isin([2019, 2020,2021,2022])]"
   ]
  },
  {
   "cell_type": "code",
   "execution_count": 53,
   "metadata": {},
   "outputs": [],
   "source": [
    "silver_dom = dom_list[17]\n",
    "silver_dom[\"DOMESTIC\"] = silver_dom[\"DOMESTIC\"].astype(int)\n",
    "silver_dom[\"Year\"] = silver_dom[\"Year\"].astype(int)\n",
    "silver_dom2 = silver_dom.groupby(['Year', 'Airline']).sum().reset_index()\n",
    "silver_dom2 = silver_dom2.loc[silver_dom2[\"Year\"].isin([2019, 2020,2021,2022])]\n",
    "\n"
   ]
  },
  {
   "cell_type": "code",
   "execution_count": 54,
   "metadata": {},
   "outputs": [],
   "source": [
    "skywest_dom = dom_list[18]\n",
    "skywest_dom = skywest_dom.dropna()\n",
    "skywest_dom[\"DOMESTIC\"] = skywest_dom[\"DOMESTIC\"].astype(int)\n",
    "skywest_dom[\"Year\"] = skywest_dom[\"Year\"].astype(int)\n",
    "skywest_dom2 = skywest_dom.groupby(['Year', 'Airline']).sum().reset_index()\n",
    "skywest_dom2 = skywest_dom2.loc[skywest_dom2[\"Year\"].isin([2019, 2020,2021,2022])]\n"
   ]
  },
  {
   "cell_type": "code",
   "execution_count": 55,
   "metadata": {},
   "outputs": [
    {
     "data": {
      "text/plain": [
       "1       724267\n",
       "2       703437\n",
       "3       785685\n",
       "5       702147\n",
       "6       704287\n",
       "        ...   \n",
       "260    3441358\n",
       "261    3404092\n",
       "262    3047129\n",
       "263    2685204\n",
       "265    2515452\n",
       "Name: DOMESTIC, Length: 244, dtype: object"
      ]
     },
     "execution_count": 55,
     "metadata": {},
     "output_type": "execute_result"
    }
   ],
   "source": [
    "dom_list[18][\"DOMESTIC\"].dropna()"
   ]
  },
  {
   "cell_type": "code",
   "execution_count": 56,
   "metadata": {},
   "outputs": [],
   "source": [
    "sw_dom = dom_list[18]\n",
    "sw_dom[\"DOMESTIC\"] = sw_dom[\"DOMESTIC\"].astype(int)\n",
    "sw_dom[\"Year\"] = sw_dom[\"Year\"].astype(int)\n",
    "sw_dom2 = sw_dom.groupby(['Year', 'Airline']).sum().reset_index()\n",
    "sw_dom2 = sw_dom2.loc[sw_dom2[\"Year\"].isin([2019, 2020,2021,2022])]"
   ]
  },
  {
   "cell_type": "code",
   "execution_count": 57,
   "metadata": {},
   "outputs": [],
   "source": [
    "sw_dom = dom_list[19]\n",
    "sw_dom[\"DOMESTIC\"] = sw_dom[\"DOMESTIC\"].astype(int)\n",
    "sw_dom[\"Year\"] = sw_dom[\"Year\"].astype(int)\n",
    "sw_dom2 = sw_dom.groupby(['Year', 'Airline']).sum().reset_index()\n",
    "sw_dom2 = sw_dom2.loc[sw_dom2[\"Year\"].isin([2019, 2020,2021,2022])]"
   ]
  },
  {
   "cell_type": "code",
   "execution_count": 58,
   "metadata": {},
   "outputs": [],
   "source": [
    "sum_cunt = dom_list[20]\n",
    "sum_cunt[\"DOMESTIC\"] = sum_cunt[\"DOMESTIC\"].astype(int)\n",
    "sum_cunt[\"Year\"] = sum_cunt[\"Year\"].astype(int)\n",
    "sum_cunt2 = sum_cunt.groupby(['Year', 'Airline']).sum().reset_index()\n",
    "sum_cunt2 = sum_cunt2.loc[sum_cunt2[\"Year\"].isin([2019, 2020,2021,2022])]"
   ]
  },
  {
   "cell_type": "code",
   "execution_count": 59,
   "metadata": {},
   "outputs": [],
   "source": [
    "united_dom = dom_list[21]\n",
    "united_dom[\"DOMESTIC\"] = united_dom[\"DOMESTIC\"].astype(int)\n",
    "united_dom[\"Year\"] = united_dom[\"Year\"].astype(int)\n",
    "united_dom2 = united_dom.groupby(['Year', 'Airline']).sum().reset_index()\n",
    "united_dom2 = united_dom2.loc[united_dom2[\"Year\"].isin([2019, 2020,2021,2022])]"
   ]
  },
  {
   "cell_type": "code",
   "execution_count": 60,
   "metadata": {},
   "outputs": [],
   "source": [
    "domestic_dataframe_merge_list = [alaskadomfin, wisconsdom2, allegient_dom2, american_dom2, commut_dom2,\n",
    "                                 delta_dom2, envoy_dom2,frontier_dom2, gojet_dom2, hawaii_dom2, horizon_dom2, \n",
    "                                 mesa_dom2, psa2, republic_dom2,skywest_dom2, sw_dom2,sum_cunt2,united_dom2\n",
    "                                ]"
   ]
  },
  {
   "cell_type": "code",
   "execution_count": 61,
   "metadata": {},
   "outputs": [],
   "source": [
    "merged_df = pd.concat(domestic_dataframe_merge_list, axis=0, ignore_index=True)"
   ]
  },
  {
   "cell_type": "code",
   "execution_count": 62,
   "metadata": {},
   "outputs": [],
   "source": [
    "# plot a pie chart\n",
    "\n",
    "#df_2019 = merged_df[merged_df['Year'] == 2019]\n",
    "#grouped_df = df_2019.groupby(['Airline'])['DOMESTIC'].sum().reset_index()\n",
    "\n",
    "#plt.pie(grouped_df['DOMESTIC'], labels=grouped_df['Airline'])\n",
    "#plt.title('Total Domestic Passengers by Airline in 2019')\n",
    "#plt.show()"
   ]
  },
  {
   "cell_type": "code",
   "execution_count": 63,
   "metadata": {},
   "outputs": [],
   "source": [
    "#df_2020 = merged_df[merged_df['Year'] == 2020]\n",
    "#grouped_df = df_2020.groupby(['Airline'])['DOMESTIC'].sum().reset_index()\n",
    "\n",
    "# plot a pie chart\n",
    "#plt.pie(grouped_df['DOMESTIC'], labels=grouped_df['Airline'])\n",
    "#plt.title('Total Domestic Passengers by Airline in 2020')\n",
    "#plt.show()"
   ]
  },
  {
   "cell_type": "code",
   "execution_count": 64,
   "metadata": {},
   "outputs": [],
   "source": [
    "#df_2022 = merged_df[merged_df['Year'] == 2022]\n",
    "#grouped_df = df_2022.groupby(['Airline'])['DOMESTIC'].sum().reset_index()\n",
    "\n",
    "# plot a pie chart\n",
    "#plt.pie(grouped_df['DOMESTIC'], labels=grouped_df['Airline'])\n",
    "#plt.title('Total Domestic Passengers by Airline in 2022')\n",
    "#plt.show()"
   ]
  },
  {
   "cell_type": "code",
   "execution_count": 65,
   "metadata": {},
   "outputs": [
    {
     "data": {
      "image/png": "[encoded data removed]",
      "text/plain": [
       "<Figure size 864x576 with 1 Axes>"
      ]
     },
     "metadata": {
      "needs_background": "light"
     },
     "output_type": "display_data"
    },
    {
     "data": {
      "text/plain": [
       "<Figure size 432x288 with 0 Axes>"
      ]
     },
     "metadata": {},
     "output_type": "display_data"
    }
   ],
   "source": [
    "import pandas as pd\n",
    "import matplotlib.pyplot as plt\n",
    "\n",
    "\n",
    "subset_df = merged_df.loc[merged_df['Year'].isin([2019, 2020])]\n",
    "\n",
    "\n",
    "grouped_df = subset_df.groupby(['Year', 'Airline']).sum().reset_index()\n",
    "\n",
    "pivot_df = grouped_df.pivot(index='Airline', columns='Year', values='DOMESTIC')\n",
    "\n",
    "\n",
    "pivot_df = pivot_df.sort_values(by=2020, ascending=False)\n",
    "\n",
    "\n",
    "ax = pivot_df.plot(kind='bar', figsize=(12, 8), width=0.8)\n",
    "\n",
    "ax.set_title('2019 vs 2020 Domestic Passengers by Airline')\n",
    "ax.set_xlabel('Airline')\n",
    "ax.set_ylabel('Number of Domestic Passengers')\n",
    "ax.legend(title='Year', labels=['2019', '2020'])\n",
    "\n",
    "plt.show()\n",
    "plt.savefig(\"domestic.jpg\")"
   ]
  },
  {
   "cell_type": "code",
   "execution_count": 66,
   "metadata": {},
   "outputs": [],
   "source": [
    "######### \n",
    "######### INTERNATIONAL\n",
    "########"
   ]
  },
  {
   "cell_type": "code",
   "execution_count": 67,
   "metadata": {},
   "outputs": [],
   "source": [
    "df_list = [alaska_air, air_wisconsin, allegient_airways, american_airways , commutair_passenger\n",
    ", delta, eastern, envoy,frontier , gojet ,hawaii, horizon, jetblue,horizon\n",
    ", mesa,  republic, silver, skywest_air, sw ,united_airlines] #missing psa and sum_cunt"
   ]
  },
  {
   "cell_type": "code",
   "execution_count": 68,
   "metadata": {},
   "outputs": [],
   "source": [
    "new_dfs = []"
   ]
  },
  {
   "cell_type": "code",
   "execution_count": 69,
   "metadata": {},
   "outputs": [],
   "source": [
    "for i, df in enumerate(df_list):\n",
    "    df = df.loc[: , [\"Year\", \"INTERNATIONAL\", \"Airline\"]]\n",
    "    new_dfs.append(df)"
   ]
  },
  {
   "cell_type": "code",
   "execution_count": 70,
   "metadata": {},
   "outputs": [],
   "source": [
    "for i in new_dfs:\n",
    "    i['INTERNATIONAL'] = i['INTERNATIONAL'].astype(str).str.replace(',',\"\")\n",
    "    i[\"INTERNATIONAL\"] = i[\"INTERNATIONAL\"].fillna('0')"
   ]
  },
  {
   "cell_type": "code",
   "execution_count": 71,
   "metadata": {},
   "outputs": [],
   "source": [
    "for i in new_dfs:\n",
    "    i[\"Year\"] = i[\"Year\"].fillna(0).astype(int)"
   ]
  },
  {
   "cell_type": "code",
   "execution_count": 72,
   "metadata": {
    "scrolled": true
   },
   "outputs": [],
   "source": [
    "for i in new_dfs:\n",
    "    i.drop(i[i[\"INTERNATIONAL\"]== \"nan\"].index, inplace=True)    "
   ]
  },
  {
   "cell_type": "code",
   "execution_count": 73,
   "metadata": {},
   "outputs": [],
   "source": [
    "for i in new_dfs:\n",
    "    i[\"INTERNATIONAL\"] = i[\"INTERNATIONAL\"].astype(int) "
   ]
  },
  {
   "cell_type": "code",
   "execution_count": 74,
   "metadata": {},
   "outputs": [],
   "source": [
    "merged_df = pd.concat(new_dfs, ignore_index=True)"
   ]
  },
  {
   "cell_type": "code",
   "execution_count": 75,
   "metadata": {},
   "outputs": [
    {
     "data": {
      "image/png": "[encoded data removed]",
      "text/plain": [
       "<Figure size 864x576 with 1 Axes>"
      ]
     },
     "metadata": {
      "needs_background": "light"
     },
     "output_type": "display_data"
    },
    {
     "data": {
      "text/plain": [
       "<Figure size 432x288 with 0 Axes>"
      ]
     },
     "metadata": {},
     "output_type": "display_data"
    }
   ],
   "source": [
    "subset_df = merged_df.loc[merged_df['Year'].isin([2019, 2020])]\n",
    "\n",
    "grouped_df = subset_df.groupby(['Year', 'Airline']).sum().reset_index()\n",
    "\n",
    "pivot_df = grouped_df.pivot(index='Airline', columns='Year', values='INTERNATIONAL')\n",
    "\n",
    "pivot_df = pivot_df.sort_values(by=2020, ascending=False)\n",
    "\n",
    "ax = pivot_df.plot(kind='bar', figsize=(12, 8), width=0.8)\n",
    "\n",
    "ax.set_title('2019 vs 2020 International Passengers by Airline')\n",
    "ax.set_xlabel('Airline')\n",
    "ax.set_ylabel('Number of International Passengers')\n",
    "ax.legend(title='Year', labels=['2019', '2020'])\n",
    "\n",
    "plt.show()\n",
    "plt.savefig(\"international.png\")\n"
   ]
  },
  {
   "cell_type": "code",
   "execution_count": null,
   "metadata": {},
   "outputs": [],
   "source": []
  }
 ],
 "metadata": {
  "celltoolbar": "Tags",
  "kernelspec": {
   "display_name": "Python 3",
   "language": "python",
   "name": "python3"
  },
  "language_info": {
   "codemirror_mode": {
    "name": "ipython",
    "version": 3
   },
   "file_extension": ".py",
   "mimetype": "text/x-python",
   "name": "python",
   "nbconvert_exporter": "python",
   "pygments_lexer": "ipython3",
   "version": "3.8.5"
  }
 },
 "nbformat": 4,
 "nbformat_minor": 4
}
